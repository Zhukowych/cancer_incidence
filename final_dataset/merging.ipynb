{
 "cells": [
  {
   "cell_type": "code",
   "execution_count": 3,
   "metadata": {
    "ExecuteTime": {
     "end_time": "2025-03-20T17:10:14.133133Z",
     "start_time": "2025-03-20T17:10:08.764689Z"
    }
   },
   "outputs": [],
   "source": [
    "import numpy as np\n",
    "import pandas as pd"
   ]
  },
  {
   "cell_type": "markdown",
   "metadata": {},
   "source": [
    "# Components"
   ]
  },
  {
   "cell_type": "code",
   "execution_count": 4,
   "metadata": {},
   "outputs": [],
   "source": [
    "exclude_regions = ['Автономна pеспубліка Крим', 'м.Київ', 'м.Севастополь', 'АР Крим', 'Автономна Республіка Крим', 'Автономна \\nРеспубліка Крим',\n",
    "                   'Автономна\\r\\n Республіка Крим', 'Севастополь', 'Київ']"
   ]
  },
  {
   "cell_type": "markdown",
   "metadata": {},
   "source": [
    "### Incidence by region and age groups"
   ]
  },
  {
   "cell_type": "code",
   "execution_count": 5,
   "metadata": {
    "ExecuteTime": {
     "end_time": "2025-03-20T17:10:14.476617Z",
     "start_time": "2025-03-20T17:10:14.148031Z"
    }
   },
   "outputs": [
    {
     "data": {
      "text/html": [
       "<div>\n",
       "<style scoped>\n",
       "    .dataframe tbody tr th:only-of-type {\n",
       "        vertical-align: middle;\n",
       "    }\n",
       "\n",
       "    .dataframe tbody tr th {\n",
       "        vertical-align: top;\n",
       "    }\n",
       "\n",
       "    .dataframe thead th {\n",
       "        text-align: right;\n",
       "    }\n",
       "</style>\n",
       "<table border=\"1\" class=\"dataframe\">\n",
       "  <thead>\n",
       "    <tr style=\"text-align: right;\">\n",
       "      <th></th>\n",
       "      <th>year</th>\n",
       "      <th>category</th>\n",
       "      <th>region</th>\n",
       "      <th>age_group</th>\n",
       "      <th>incidence</th>\n",
       "    </tr>\n",
       "  </thead>\n",
       "  <tbody>\n",
       "    <tr>\n",
       "      <th>20</th>\n",
       "      <td>2010</td>\n",
       "      <td>Злоякiснi новоутворення-всього         C00-C97...</td>\n",
       "      <td>Вінницька</td>\n",
       "      <td>до 1 р.</td>\n",
       "      <td>1</td>\n",
       "    </tr>\n",
       "    <tr>\n",
       "      <th>21</th>\n",
       "      <td>2010</td>\n",
       "      <td>Злоякiснi новоутворення-всього         C00-C97...</td>\n",
       "      <td>Вінницька</td>\n",
       "      <td>1-4 р.</td>\n",
       "      <td>5</td>\n",
       "    </tr>\n",
       "    <tr>\n",
       "      <th>22</th>\n",
       "      <td>2010</td>\n",
       "      <td>Злоякiснi новоутворення-всього         C00-C97...</td>\n",
       "      <td>Вінницька</td>\n",
       "      <td>5-9 р.</td>\n",
       "      <td>2</td>\n",
       "    </tr>\n",
       "    <tr>\n",
       "      <th>23</th>\n",
       "      <td>2010</td>\n",
       "      <td>Злоякiснi новоутворення-всього         C00-C97...</td>\n",
       "      <td>Вінницька</td>\n",
       "      <td>10-14р</td>\n",
       "      <td>5</td>\n",
       "    </tr>\n",
       "    <tr>\n",
       "      <th>24</th>\n",
       "      <td>2010</td>\n",
       "      <td>Злоякiснi новоутворення-всього         C00-C97...</td>\n",
       "      <td>Вінницька</td>\n",
       "      <td>15-19р</td>\n",
       "      <td>4</td>\n",
       "    </tr>\n",
       "  </tbody>\n",
       "</table>\n",
       "</div>"
      ],
      "text/plain": [
       "    year                                           category     region  \\\n",
       "20  2010  Злоякiснi новоутворення-всього         C00-C97...  Вінницька   \n",
       "21  2010  Злоякiснi новоутворення-всього         C00-C97...  Вінницька   \n",
       "22  2010  Злоякiснi новоутворення-всього         C00-C97...  Вінницька   \n",
       "23  2010  Злоякiснi новоутворення-всього         C00-C97...  Вінницька   \n",
       "24  2010  Злоякiснi новоутворення-всього         C00-C97...  Вінницька   \n",
       "\n",
       "   age_group  incidence  \n",
       "20   до 1 р.          1  \n",
       "21    1-4 р.          5  \n",
       "22    5-9 р.          2  \n",
       "23    10-14р          5  \n",
       "24    15-19р          4  "
      ]
     },
     "execution_count": 5,
     "metadata": {},
     "output_type": "execute_result"
    }
   ],
   "source": [
    "incidence = pd.read_csv(\"./../FORM_7/incidence.csv\")\n",
    "\n",
    "incidence = incidence[~incidence.region.isin(exclude_regions)]\n",
    "\n",
    "incidence.head()"
   ]
  },
  {
   "cell_type": "markdown",
   "metadata": {},
   "source": [
    "### Incidence by region and stage"
   ]
  },
  {
   "cell_type": "code",
   "execution_count": 6,
   "metadata": {
    "ExecuteTime": {
     "end_time": "2025-03-20T17:10:14.547585Z",
     "start_time": "2025-03-20T17:10:14.545092Z"
    }
   },
   "outputs": [
    {
     "data": {
      "text/html": [
       "<div>\n",
       "<style scoped>\n",
       "    .dataframe tbody tr th:only-of-type {\n",
       "        vertical-align: middle;\n",
       "    }\n",
       "\n",
       "    .dataframe tbody tr th {\n",
       "        vertical-align: top;\n",
       "    }\n",
       "\n",
       "    .dataframe thead th {\n",
       "        text-align: right;\n",
       "    }\n",
       "</style>\n",
       "<table border=\"1\" class=\"dataframe\">\n",
       "  <thead>\n",
       "    <tr style=\"text-align: right;\">\n",
       "      <th></th>\n",
       "      <th>year</th>\n",
       "      <th>region</th>\n",
       "      <th>mtumors</th>\n",
       "      <th>syncmtumors</th>\n",
       "      <th>insitu</th>\n",
       "      <th>ncervix</th>\n",
       "    </tr>\n",
       "  </thead>\n",
       "  <tbody>\n",
       "    <tr>\n",
       "      <th>10</th>\n",
       "      <td>2010</td>\n",
       "      <td>Вінницька</td>\n",
       "      <td>356</td>\n",
       "      <td>112</td>\n",
       "      <td>113</td>\n",
       "      <td>103</td>\n",
       "    </tr>\n",
       "    <tr>\n",
       "      <th>11</th>\n",
       "      <td>2010</td>\n",
       "      <td>Волинська</td>\n",
       "      <td>177</td>\n",
       "      <td>50</td>\n",
       "      <td>81</td>\n",
       "      <td>77</td>\n",
       "    </tr>\n",
       "    <tr>\n",
       "      <th>12</th>\n",
       "      <td>2010</td>\n",
       "      <td>Дніпропетровська</td>\n",
       "      <td>767</td>\n",
       "      <td>212</td>\n",
       "      <td>174</td>\n",
       "      <td>150</td>\n",
       "    </tr>\n",
       "    <tr>\n",
       "      <th>13</th>\n",
       "      <td>2010</td>\n",
       "      <td>Донецька</td>\n",
       "      <td>906</td>\n",
       "      <td>234</td>\n",
       "      <td>57</td>\n",
       "      <td>24</td>\n",
       "    </tr>\n",
       "    <tr>\n",
       "      <th>14</th>\n",
       "      <td>2010</td>\n",
       "      <td>Житомирська</td>\n",
       "      <td>285</td>\n",
       "      <td>94</td>\n",
       "      <td>33</td>\n",
       "      <td>30</td>\n",
       "    </tr>\n",
       "  </tbody>\n",
       "</table>\n",
       "</div>"
      ],
      "text/plain": [
       "    year            region  mtumors  syncmtumors  insitu  ncervix\n",
       "10  2010         Вінницька      356          112     113      103\n",
       "11  2010         Волинська      177           50      81       77\n",
       "12  2010  Дніпропетровська      767          212     174      150\n",
       "13  2010          Донецька      906          234      57       24\n",
       "14  2010       Житомирська      285           94      33       30"
      ]
     },
     "execution_count": 6,
     "metadata": {},
     "output_type": "execute_result"
    }
   ],
   "source": [
    "stage_incidence = pd.read_csv(\"stage_date.csv\")\n",
    "\n",
    "stage_incidence = stage_incidence[~stage_incidence.region.isin(exclude_regions)]\n",
    "\n",
    "stage_incidence.head()"
   ]
  },
  {
   "cell_type": "markdown",
   "metadata": {},
   "source": [
    "#### F470100"
   ]
  },
  {
   "cell_type": "code",
   "execution_count": 7,
   "metadata": {
    "ExecuteTime": {
     "end_time": "2025-03-20T17:10:14.564444Z",
     "start_time": "2025-03-20T17:10:14.552373Z"
    }
   },
   "outputs": [
    {
     "data": {
      "text/html": [
       "<div>\n",
       "<style scoped>\n",
       "    .dataframe tbody tr th:only-of-type {\n",
       "        vertical-align: middle;\n",
       "    }\n",
       "\n",
       "    .dataframe tbody tr th {\n",
       "        vertical-align: top;\n",
       "    }\n",
       "\n",
       "    .dataframe thead th {\n",
       "        text-align: right;\n",
       "    }\n",
       "</style>\n",
       "<table border=\"1\" class=\"dataframe\">\n",
       "  <thead>\n",
       "    <tr style=\"text-align: right;\">\n",
       "      <th></th>\n",
       "      <th>year</th>\n",
       "      <th>region</th>\n",
       "      <th>nhospotal</th>\n",
       "      <th>nbeds</th>\n",
       "      <th>ybeds</th>\n",
       "      <th>nill</th>\n",
       "      <th>nvillage_ill</th>\n",
       "      <th>bed_days</th>\n",
       "      <th>dvisits</th>\n",
       "      <th>hvisits</th>\n",
       "      <th>ndoctors</th>\n",
       "      <th>nnursing</th>\n",
       "    </tr>\n",
       "  </thead>\n",
       "  <tbody>\n",
       "  </tbody>\n",
       "</table>\n",
       "</div>"
      ],
      "text/plain": [
       "Empty DataFrame\n",
       "Columns: [year, region, nhospotal, nbeds, ybeds, nill, nvillage_ill, bed_days, dvisits, hvisits, ndoctors, nnursing]\n",
       "Index: []"
      ]
     },
     "execution_count": 7,
     "metadata": {},
     "output_type": "execute_result"
    }
   ],
   "source": [
    "f47_0100_df = pd.read_csv(\"F470100.csv\")\n",
    "f47_0100_df['category'] = f47_0100_df.category.str.replace(' ', '')\n",
    "aggregated_f47_0100_df = f47_0100_df[f47_0100_df['category'] == \"ВСЬОГО\"]\n",
    "aggregated_f47_0100_df = aggregated_f47_0100_df.drop(columns=['category'])\n",
    "\n",
    "aggregated_f47_0100_df = aggregated_f47_0100_df[~aggregated_f47_0100_df.region.isin(exclude_regions)]\n",
    "aggregated_f47_0100_df.ybeds = aggregated_f47_0100_df.ybeds.str.replace(',', '.').astype(float)\n",
    "aggregated_f47_0100_df.ndoctors = aggregated_f47_0100_df.ndoctors.str.replace(',', '.').astype(float)\n",
    "aggregated_f47_0100_df.nnursing = aggregated_f47_0100_df.nnursing.str.replace(',', '.').astype(float)\n",
    "\n",
    "aggregated_f47_0100_df[aggregated_f47_0100_df.duplicated(subset=['region', 'year'], keep=False)]"
   ]
  },
  {
   "cell_type": "markdown",
   "metadata": {},
   "source": [
    "#### F471700 - equipment"
   ]
  },
  {
   "cell_type": "code",
   "execution_count": 8,
   "metadata": {
    "ExecuteTime": {
     "end_time": "2025-03-20T17:10:14.592850Z",
     "start_time": "2025-03-20T17:10:14.570088Z"
    }
   },
   "outputs": [
    {
     "data": {
      "text/html": [
       "<div>\n",
       "<style scoped>\n",
       "    .dataframe tbody tr th:only-of-type {\n",
       "        vertical-align: middle;\n",
       "    }\n",
       "\n",
       "    .dataframe tbody tr th {\n",
       "        vertical-align: top;\n",
       "    }\n",
       "\n",
       "    .dataframe thead th {\n",
       "        text-align: right;\n",
       "    }\n",
       "</style>\n",
       "<table border=\"1\" class=\"dataframe\">\n",
       "  <thead>\n",
       "    <tr style=\"text-align: right;\">\n",
       "      <th></th>\n",
       "      <th>year</th>\n",
       "      <th>region</th>\n",
       "      <th>nx_ray</th>\n",
       "      <th>nflurography</th>\n",
       "      <th>nradiology</th>\n",
       "      <th>nradlab</th>\n",
       "      <th>nсt</th>\n",
       "      <th>ncardiogram</th>\n",
       "      <th>ndiaglab</th>\n",
       "      <th>nbacter</th>\n",
       "      <th>nbiochem</th>\n",
       "      <th>ncyto</th>\n",
       "      <th>nimun</th>\n",
       "      <th>nphysic</th>\n",
       "      <th>nendoscop</th>\n",
       "      <th>nultrasound</th>\n",
       "      <th>ndialysis</th>\n",
       "    </tr>\n",
       "  </thead>\n",
       "  <tbody>\n",
       "    <tr>\n",
       "      <th>0</th>\n",
       "      <td>2008</td>\n",
       "      <td>Івано-Франківська</td>\n",
       "      <td>72</td>\n",
       "      <td>48</td>\n",
       "      <td>2</td>\n",
       "      <td>0</td>\n",
       "      <td>3</td>\n",
       "      <td>137</td>\n",
       "      <td>208</td>\n",
       "      <td>6</td>\n",
       "      <td>0</td>\n",
       "      <td>3</td>\n",
       "      <td>1</td>\n",
       "      <td>208</td>\n",
       "      <td>35</td>\n",
       "      <td>52</td>\n",
       "      <td>5</td>\n",
       "    </tr>\n",
       "    <tr>\n",
       "      <th>2</th>\n",
       "      <td>2008</td>\n",
       "      <td>Волинська</td>\n",
       "      <td>47</td>\n",
       "      <td>31</td>\n",
       "      <td>1</td>\n",
       "      <td>1</td>\n",
       "      <td>3</td>\n",
       "      <td>122</td>\n",
       "      <td>137</td>\n",
       "      <td>3</td>\n",
       "      <td>1</td>\n",
       "      <td>2</td>\n",
       "      <td>0</td>\n",
       "      <td>139</td>\n",
       "      <td>26</td>\n",
       "      <td>36</td>\n",
       "      <td>2</td>\n",
       "    </tr>\n",
       "    <tr>\n",
       "      <th>3</th>\n",
       "      <td>2008</td>\n",
       "      <td>Вінницька</td>\n",
       "      <td>90</td>\n",
       "      <td>61</td>\n",
       "      <td>4</td>\n",
       "      <td>1</td>\n",
       "      <td>4</td>\n",
       "      <td>241</td>\n",
       "      <td>267</td>\n",
       "      <td>6</td>\n",
       "      <td>1</td>\n",
       "      <td>1</td>\n",
       "      <td>0</td>\n",
       "      <td>275</td>\n",
       "      <td>39</td>\n",
       "      <td>53</td>\n",
       "      <td>1</td>\n",
       "    </tr>\n",
       "    <tr>\n",
       "      <th>4</th>\n",
       "      <td>2008</td>\n",
       "      <td>Дніпропетровська</td>\n",
       "      <td>163</td>\n",
       "      <td>117</td>\n",
       "      <td>7</td>\n",
       "      <td>3</td>\n",
       "      <td>6</td>\n",
       "      <td>265</td>\n",
       "      <td>262</td>\n",
       "      <td>7</td>\n",
       "      <td>2</td>\n",
       "      <td>3</td>\n",
       "      <td>5</td>\n",
       "      <td>340</td>\n",
       "      <td>90</td>\n",
       "      <td>109</td>\n",
       "      <td>2</td>\n",
       "    </tr>\n",
       "    <tr>\n",
       "      <th>5</th>\n",
       "      <td>2008</td>\n",
       "      <td>Донецька</td>\n",
       "      <td>244</td>\n",
       "      <td>147</td>\n",
       "      <td>10</td>\n",
       "      <td>3</td>\n",
       "      <td>4</td>\n",
       "      <td>257</td>\n",
       "      <td>326</td>\n",
       "      <td>10</td>\n",
       "      <td>5</td>\n",
       "      <td>6</td>\n",
       "      <td>3</td>\n",
       "      <td>396</td>\n",
       "      <td>81</td>\n",
       "      <td>127</td>\n",
       "      <td>5</td>\n",
       "    </tr>\n",
       "  </tbody>\n",
       "</table>\n",
       "</div>"
      ],
      "text/plain": [
       "   year             region  nx_ray  nflurography  nradiology  nradlab  nсt  \\\n",
       "0  2008  Івано-Франківська      72            48           2        0    3   \n",
       "2  2008          Волинська      47            31           1        1    3   \n",
       "3  2008          Вінницька      90            61           4        1    4   \n",
       "4  2008   Дніпропетровська     163           117           7        3    6   \n",
       "5  2008           Донецька     244           147          10        3    4   \n",
       "\n",
       "   ncardiogram  ndiaglab  nbacter  nbiochem  ncyto  nimun  nphysic  nendoscop  \\\n",
       "0          137       208        6         0      3      1      208         35   \n",
       "2          122       137        3         1      2      0      139         26   \n",
       "3          241       267        6         1      1      0      275         39   \n",
       "4          265       262        7         2      3      5      340         90   \n",
       "5          257       326       10         5      6      3      396         81   \n",
       "\n",
       "   nultrasound  ndialysis  \n",
       "0           52          5  \n",
       "2           36          2  \n",
       "3           53          1  \n",
       "4          109          2  \n",
       "5          127          5  "
      ]
     },
     "execution_count": 8,
     "metadata": {},
     "output_type": "execute_result"
    }
   ],
   "source": [
    "f_47_1700_df = pd.read_csv('F471700.csv')\n",
    "\n",
    "categories_variables = {\n",
    "    \"nx_ray\": \"Чис.закл.,які мають:рентг.від.(каб)\",\n",
    "    \"nflurography\": \"флюорографiчнi вiддiлення (кабiнети)\",\n",
    "    \"nradiology\": \"радiологiчнi (променевої терапiї)\",\n",
    "    \"nradlab\": \"лабораторії радіоізотопної діагност.\",\n",
    "    \"nсt\": \"комп'ютерної томографії\",\n",
    "    \"ncardiogram\": \"каб.електрокардіог.та функц.діагност.\",\n",
    "    \"ndiaglab\": \"клініко-діагностичні лабораторії\",\n",
    "    \"nbacter\": \"бактеріологічні лабораторії\",\n",
    "    \"nbiochem\": \"біохімічні лабораторії\",\n",
    "    \"ncyto\": \"цитологічні лабораторії\",\n",
    "    \"nimun\": \"імунологічні лабораторії\",\n",
    "    \"nphysic\": \"фізіотерапевтичні відділення (каб.)\",\n",
    "    \"nendoscop\": \"ендоскопічні відділення (кабінети)\",\n",
    "    \"nultrasound\": \"ультразвукової діагностики\",\n",
    "    \"ndialysis\": \"відділення нефрології та діалізу\"\n",
    "}\n",
    "\n",
    "equipment_dfs = []\n",
    "for column_name, category in categories_variables.items():\n",
    "    df = f_47_1700_df[f_47_1700_df['category'] == category][['year', 'region', 'total']]\n",
    "    df = df.rename(columns={\"total\": column_name})\n",
    "    if len(df) == 0:\n",
    "        raise Exception(\"inconsistent\")\n",
    "    equipment_dfs.append(df)\n",
    "\n",
    "equipment_df = equipment_dfs[0]\n",
    "for df in equipment_dfs[1:]:\n",
    "    equipment_df = pd.merge(equipment_df, df, on=[\"year\", \"region\"], how=\"outer\")\n",
    "\n",
    "\n",
    "equipment_df = equipment_df[~equipment_df.region.isin(exclude_regions)]\n",
    "\n",
    "equipment_df.head()"
   ]
  },
  {
   "cell_type": "markdown",
   "metadata": {},
   "source": [
    "### Air pollution"
   ]
  },
  {
   "cell_type": "code",
   "execution_count": 9,
   "metadata": {
    "ExecuteTime": {
     "end_time": "2025-03-20T17:10:14.604199Z",
     "start_time": "2025-03-20T17:10:14.601085Z"
    }
   },
   "outputs": [
    {
     "data": {
      "text/html": [
       "<div>\n",
       "<style scoped>\n",
       "    .dataframe tbody tr th:only-of-type {\n",
       "        vertical-align: middle;\n",
       "    }\n",
       "\n",
       "    .dataframe tbody tr th {\n",
       "        vertical-align: top;\n",
       "    }\n",
       "\n",
       "    .dataframe thead th {\n",
       "        text-align: right;\n",
       "    }\n",
       "</style>\n",
       "<table border=\"1\" class=\"dataframe\">\n",
       "  <thead>\n",
       "    <tr style=\"text-align: right;\">\n",
       "      <th></th>\n",
       "      <th>region</th>\n",
       "      <th>year</th>\n",
       "      <th>air_pollution</th>\n",
       "    </tr>\n",
       "  </thead>\n",
       "  <tbody>\n",
       "    <tr>\n",
       "      <th>451</th>\n",
       "      <td>Вінницька</td>\n",
       "      <td>2008</td>\n",
       "      <td>130.3</td>\n",
       "    </tr>\n",
       "    <tr>\n",
       "      <th>452</th>\n",
       "      <td>Волинська</td>\n",
       "      <td>2008</td>\n",
       "      <td>10.0</td>\n",
       "    </tr>\n",
       "    <tr>\n",
       "      <th>453</th>\n",
       "      <td>Дніпропетровська</td>\n",
       "      <td>2008</td>\n",
       "      <td>952.3</td>\n",
       "    </tr>\n",
       "    <tr>\n",
       "      <th>454</th>\n",
       "      <td>Донецька</td>\n",
       "      <td>2008</td>\n",
       "      <td>1533.4</td>\n",
       "    </tr>\n",
       "    <tr>\n",
       "      <th>455</th>\n",
       "      <td>Житомирська</td>\n",
       "      <td>2008</td>\n",
       "      <td>19.1</td>\n",
       "    </tr>\n",
       "  </tbody>\n",
       "</table>\n",
       "</div>"
      ],
      "text/plain": [
       "               region  year air_pollution\n",
       "451         Вінницька  2008         130.3\n",
       "452         Волинська  2008          10.0\n",
       "453  Дніпропетровська  2008         952.3\n",
       "454          Донецька  2008        1533.4\n",
       "455       Житомирська  2008          19.1"
      ]
     },
     "execution_count": 9,
     "metadata": {},
     "output_type": "execute_result"
    }
   ],
   "source": [
    "air_pollution_df = pd.read_csv(\"air_polution.csv\")\n",
    "air_pollution_df = air_pollution_df.rename(columns={'Region': 'region'})\n",
    "\n",
    "air_pollution_df = air_pollution_df[air_pollution_df['year'] >= 2008]\n",
    "air_pollution_df = air_pollution_df.drop(columns=[\"Unnamed: 0\"])\n",
    "\n",
    "air_pollution_df = air_pollution_df[~air_pollution_df.region.isin(exclude_regions)]\n",
    "\n",
    "air_pollution_df.head()"
   ]
  },
  {
   "cell_type": "code",
   "execution_count": 10,
   "metadata": {},
   "outputs": [
    {
     "data": {
      "text/plain": [
       "(np.int64(2008), np.int64(2023))"
      ]
     },
     "execution_count": 10,
     "metadata": {},
     "output_type": "execute_result"
    }
   ],
   "source": [
    "air_pollution_df.year.min(), air_pollution_df.year.max()"
   ]
  },
  {
   "cell_type": "markdown",
   "metadata": {},
   "source": [
    "### Water pollution"
   ]
  },
  {
   "cell_type": "code",
   "execution_count": 11,
   "metadata": {
    "ExecuteTime": {
     "end_time": "2025-03-20T17:10:14.615482Z",
     "start_time": "2025-03-20T17:10:14.612784Z"
    }
   },
   "outputs": [],
   "source": [
    "water_pollution = pd.read_csv(\"merged_dumps.csv\")\n",
    "water_pollution = water_pollution.rename(columns={'Region': 'region'})\n",
    "\n",
    "water_pollution = water_pollution[water_pollution['year'] >= 2008]\n",
    "\n",
    "water_pollution = water_pollution[~water_pollution.region.isin(exclude_regions)]\n",
    "\n",
    "water_pollution[water_pollution.not_cleaned_dumps == \"–\"] = np.nan\n",
    "\n",
    "columns_to_convert = ['polluted_dumps', 'not_cleaned_dumps', 'dumps_not_cleaned_enough',\t'num_clearing_plants']\n",
    "for col in columns_to_convert:\n",
    "    water_pollution[col] = pd.to_numeric(water_pollution[col], errors='coerce')\n",
    "\n"
   ]
  },
  {
   "cell_type": "markdown",
   "metadata": {},
   "source": [
    "Imputation"
   ]
  },
  {
   "cell_type": "code",
   "execution_count": 12,
   "metadata": {},
   "outputs": [],
   "source": [
    "missing_regions_years = pd.DataFrame(\n",
    "    [(\"Вінницька\",\t2010),\n",
    "    (\"Миколаївська\",\t2010),\n",
    "    (\"Миколаївська\",\t2010),\n",
    "    (\"Полтавська\",\t2010),\n",
    "    (\"Миколаївська\",\t2010),\n",
    "    (\"Чернігівська\",\t2010),\n",
    "    (\"Полтавська\",\t2011),\n",
    "    (\"Чернігівська\",\t2011),\n",
    "    (\"Полтавська\",\t2008),\n",
    "    (\"Чернігівська\",\t2008),\n",
    "    (\"Полтавська\",\t2009),\n",
    "    (\"Чернігівська\",\t2009),\n",
    "    (\"Миколаївська\",\t2012),\n",
    "    (\"Полтавська\",\t2012),\n",
    "    (\"Чернігівська\",\t2012)],\n",
    "    columns=['region', 'year']\n",
    ")\n",
    "\n",
    "water_pollution = pd.concat([water_pollution, missing_regions_years])"
   ]
  },
  {
   "cell_type": "code",
   "execution_count": 13,
   "metadata": {},
   "outputs": [
    {
     "data": {
      "text/html": [
       "<div>\n",
       "<style scoped>\n",
       "    .dataframe tbody tr th:only-of-type {\n",
       "        vertical-align: middle;\n",
       "    }\n",
       "\n",
       "    .dataframe tbody tr th {\n",
       "        vertical-align: top;\n",
       "    }\n",
       "\n",
       "    .dataframe thead th {\n",
       "        text-align: right;\n",
       "    }\n",
       "</style>\n",
       "<table border=\"1\" class=\"dataframe\">\n",
       "  <thead>\n",
       "    <tr style=\"text-align: right;\">\n",
       "      <th></th>\n",
       "      <th>region</th>\n",
       "      <th>year</th>\n",
       "      <th>polluted_dumps</th>\n",
       "      <th>not_cleaned_dumps</th>\n",
       "      <th>dumps_not_cleaned_enough</th>\n",
       "      <th>num_clearing_plants</th>\n",
       "    </tr>\n",
       "  </thead>\n",
       "  <tbody>\n",
       "    <tr>\n",
       "      <th>451</th>\n",
       "      <td>Вінницька</td>\n",
       "      <td>2008.0</td>\n",
       "      <td>2.0</td>\n",
       "      <td>0.0</td>\n",
       "      <td>2.0</td>\n",
       "      <td>95.0</td>\n",
       "    </tr>\n",
       "    <tr>\n",
       "      <th>476</th>\n",
       "      <td>Вінницька</td>\n",
       "      <td>2009.0</td>\n",
       "      <td>2.0</td>\n",
       "      <td>0.0</td>\n",
       "      <td>2.0</td>\n",
       "      <td>98.0</td>\n",
       "    </tr>\n",
       "    <tr>\n",
       "      <th>0</th>\n",
       "      <td>Вінницька</td>\n",
       "      <td>2010.0</td>\n",
       "      <td>2.0</td>\n",
       "      <td>0.0</td>\n",
       "      <td>2.0</td>\n",
       "      <td>98.0</td>\n",
       "    </tr>\n",
       "    <tr>\n",
       "      <th>526</th>\n",
       "      <td>Вінницька</td>\n",
       "      <td>2011.0</td>\n",
       "      <td>2.0</td>\n",
       "      <td>0.0</td>\n",
       "      <td>2.0</td>\n",
       "      <td>102.0</td>\n",
       "    </tr>\n",
       "    <tr>\n",
       "      <th>551</th>\n",
       "      <td>Вінницька</td>\n",
       "      <td>2012.0</td>\n",
       "      <td>1.0</td>\n",
       "      <td>0.0</td>\n",
       "      <td>1.0</td>\n",
       "      <td>103.0</td>\n",
       "    </tr>\n",
       "  </tbody>\n",
       "</table>\n",
       "</div>"
      ],
      "text/plain": [
       "        region    year  polluted_dumps  not_cleaned_dumps  \\\n",
       "451  Вінницька  2008.0             2.0                0.0   \n",
       "476  Вінницька  2009.0             2.0                0.0   \n",
       "0    Вінницька  2010.0             2.0                0.0   \n",
       "526  Вінницька  2011.0             2.0                0.0   \n",
       "551  Вінницька  2012.0             1.0                0.0   \n",
       "\n",
       "     dumps_not_cleaned_enough  num_clearing_plants  \n",
       "451                       2.0                 95.0  \n",
       "476                       2.0                 98.0  \n",
       "0                         2.0                 98.0  \n",
       "526                       2.0                102.0  \n",
       "551                       1.0                103.0  "
      ]
     },
     "execution_count": 13,
     "metadata": {},
     "output_type": "execute_result"
    }
   ],
   "source": [
    "water_pollution_dfs = []\n",
    "\n",
    "for region in water_pollution.region.unique():\n",
    "    region_wp = water_pollution[water_pollution.region == region].sort_values(by='year')\n",
    "\n",
    "    columns_to_impute = ['polluted_dumps', 'not_cleaned_dumps', 'dumps_not_cleaned_enough',\t'num_clearing_plants']\n",
    "\n",
    "    for column in columns_to_impute:\n",
    "        region_wp[column] = region_wp[column].ffill().bfill()\n",
    "\n",
    "    water_pollution_dfs.append(region_wp)\n",
    "\n",
    "water_pollution = pd.concat(water_pollution_dfs)\n",
    "\n",
    "water_pollution.head()"
   ]
  },
  {
   "cell_type": "code",
   "execution_count": 14,
   "metadata": {},
   "outputs": [
    {
     "data": {
      "text/plain": [
       "(np.float64(2008.0), np.float64(2022.0))"
      ]
     },
     "execution_count": 14,
     "metadata": {},
     "output_type": "execute_result"
    }
   ],
   "source": [
    "water_pollution.year.min(), water_pollution.year.max()"
   ]
  },
  {
   "cell_type": "markdown",
   "metadata": {},
   "source": [
    "### GDP"
   ]
  },
  {
   "cell_type": "code",
   "execution_count": 15,
   "metadata": {
    "ExecuteTime": {
     "end_time": "2025-03-20T17:10:14.627656Z",
     "start_time": "2025-03-20T17:10:14.624712Z"
    }
   },
   "outputs": [
    {
     "data": {
      "text/html": [
       "<div>\n",
       "<style scoped>\n",
       "    .dataframe tbody tr th:only-of-type {\n",
       "        vertical-align: middle;\n",
       "    }\n",
       "\n",
       "    .dataframe tbody tr th {\n",
       "        vertical-align: top;\n",
       "    }\n",
       "\n",
       "    .dataframe thead th {\n",
       "        text-align: right;\n",
       "    }\n",
       "</style>\n",
       "<table border=\"1\" class=\"dataframe\">\n",
       "  <thead>\n",
       "    <tr style=\"text-align: right;\">\n",
       "      <th></th>\n",
       "      <th>region</th>\n",
       "      <th>year</th>\n",
       "      <th>gdp</th>\n",
       "    </tr>\n",
       "  </thead>\n",
       "  <tbody>\n",
       "    <tr>\n",
       "      <th>101</th>\n",
       "      <td>Вінницька</td>\n",
       "      <td>2008</td>\n",
       "      <td>12061</td>\n",
       "    </tr>\n",
       "    <tr>\n",
       "      <th>102</th>\n",
       "      <td>Волинська</td>\n",
       "      <td>2008</td>\n",
       "      <td>12340</td>\n",
       "    </tr>\n",
       "    <tr>\n",
       "      <th>103</th>\n",
       "      <td>Дніпропетровська</td>\n",
       "      <td>2008</td>\n",
       "      <td>30918</td>\n",
       "    </tr>\n",
       "    <tr>\n",
       "      <th>104</th>\n",
       "      <td>Донецька</td>\n",
       "      <td>2008</td>\n",
       "      <td>26028</td>\n",
       "    </tr>\n",
       "    <tr>\n",
       "      <th>105</th>\n",
       "      <td>Житомирська</td>\n",
       "      <td>2008</td>\n",
       "      <td>11545</td>\n",
       "    </tr>\n",
       "  </tbody>\n",
       "</table>\n",
       "</div>"
      ],
      "text/plain": [
       "               region  year    gdp\n",
       "101         Вінницька  2008  12061\n",
       "102         Волинська  2008  12340\n",
       "103  Дніпропетровська  2008  30918\n",
       "104          Донецька  2008  26028\n",
       "105       Житомирська  2008  11545"
      ]
     },
     "execution_count": 15,
     "metadata": {},
     "output_type": "execute_result"
    }
   ],
   "source": [
    "gdp = pd.read_csv(\"gdp.csv\")\n",
    "gdp = gdp.rename(columns={\"Region\": \"region\"})\n",
    "\n",
    "gdp = gdp[gdp['year'] >= 2008]\n",
    "\n",
    "gdp = gdp[~gdp.region.isin(exclude_regions)]\n",
    "\n",
    "gdp.head()"
   ]
  },
  {
   "cell_type": "code",
   "execution_count": 16,
   "metadata": {},
   "outputs": [
    {
     "data": {
      "text/plain": [
       "(np.int64(2008), np.int64(2021))"
      ]
     },
     "execution_count": 16,
     "metadata": {},
     "output_type": "execute_result"
    }
   ],
   "source": [
    "gdp.year.min(), gdp.year.max()"
   ]
  },
  {
   "cell_type": "markdown",
   "metadata": {},
   "source": [
    "### CPI"
   ]
  },
  {
   "cell_type": "code",
   "execution_count": 17,
   "metadata": {
    "ExecuteTime": {
     "end_time": "2025-03-20T17:10:14.640087Z",
     "start_time": "2025-03-20T17:10:14.637453Z"
    }
   },
   "outputs": [
    {
     "data": {
      "text/html": [
       "<div>\n",
       "<style scoped>\n",
       "    .dataframe tbody tr th:only-of-type {\n",
       "        vertical-align: middle;\n",
       "    }\n",
       "\n",
       "    .dataframe tbody tr th {\n",
       "        vertical-align: top;\n",
       "    }\n",
       "\n",
       "    .dataframe thead th {\n",
       "        text-align: right;\n",
       "    }\n",
       "</style>\n",
       "<table border=\"1\" class=\"dataframe\">\n",
       "  <thead>\n",
       "    <tr style=\"text-align: right;\">\n",
       "      <th></th>\n",
       "      <th>year</th>\n",
       "      <th>cpi</th>\n",
       "    </tr>\n",
       "  </thead>\n",
       "  <tbody>\n",
       "    <tr>\n",
       "      <th>8</th>\n",
       "      <td>2008</td>\n",
       "      <td>122.3</td>\n",
       "    </tr>\n",
       "    <tr>\n",
       "      <th>9</th>\n",
       "      <td>2009</td>\n",
       "      <td>112.3</td>\n",
       "    </tr>\n",
       "    <tr>\n",
       "      <th>10</th>\n",
       "      <td>2010</td>\n",
       "      <td>109.1</td>\n",
       "    </tr>\n",
       "    <tr>\n",
       "      <th>11</th>\n",
       "      <td>2011</td>\n",
       "      <td>104.6</td>\n",
       "    </tr>\n",
       "    <tr>\n",
       "      <th>12</th>\n",
       "      <td>2012</td>\n",
       "      <td>99.8</td>\n",
       "    </tr>\n",
       "  </tbody>\n",
       "</table>\n",
       "</div>"
      ],
      "text/plain": [
       "    year    cpi\n",
       "8   2008  122.3\n",
       "9   2009  112.3\n",
       "10  2010  109.1\n",
       "11  2011  104.6\n",
       "12  2012   99.8"
      ]
     },
     "execution_count": 17,
     "metadata": {},
     "output_type": "execute_result"
    }
   ],
   "source": [
    "cpi = pd.read_csv(\"inflation.csv\", sep=r\"\\s+\")\n",
    "cpi.cpi = cpi.cpi.map(lambda x: float(x.replace(',', '.')))\n",
    "\n",
    "cpi = cpi[cpi['year'] >= 2008]\n",
    "\n",
    "cpi.head()"
   ]
  },
  {
   "cell_type": "code",
   "execution_count": 18,
   "metadata": {},
   "outputs": [
    {
     "data": {
      "text/plain": [
       "(np.int64(2008), np.int64(2024))"
      ]
     },
     "execution_count": 18,
     "metadata": {},
     "output_type": "execute_result"
    }
   ],
   "source": [
    "cpi.year.min(), cpi.year.max()"
   ]
  },
  {
   "cell_type": "markdown",
   "metadata": {},
   "source": [
    "### Population"
   ]
  },
  {
   "cell_type": "code",
   "execution_count": 19,
   "metadata": {
    "ExecuteTime": {
     "end_time": "2025-03-20T17:10:14.656132Z",
     "start_time": "2025-03-20T17:10:14.650652Z"
    }
   },
   "outputs": [
    {
     "data": {
      "text/html": [
       "<div>\n",
       "<style scoped>\n",
       "    .dataframe tbody tr th:only-of-type {\n",
       "        vertical-align: middle;\n",
       "    }\n",
       "\n",
       "    .dataframe tbody tr th {\n",
       "        vertical-align: top;\n",
       "    }\n",
       "\n",
       "    .dataframe thead th {\n",
       "        text-align: right;\n",
       "    }\n",
       "</style>\n",
       "<table border=\"1\" class=\"dataframe\">\n",
       "  <thead>\n",
       "    <tr style=\"text-align: right;\">\n",
       "      <th></th>\n",
       "      <th>region</th>\n",
       "      <th>year</th>\n",
       "      <th>population</th>\n",
       "    </tr>\n",
       "  </thead>\n",
       "  <tbody>\n",
       "    <tr>\n",
       "      <th>53</th>\n",
       "      <td>Вінницька</td>\n",
       "      <td>2008</td>\n",
       "      <td>1672217.0</td>\n",
       "    </tr>\n",
       "    <tr>\n",
       "      <th>54</th>\n",
       "      <td>Вінницька</td>\n",
       "      <td>2009</td>\n",
       "      <td>1659975.0</td>\n",
       "    </tr>\n",
       "    <tr>\n",
       "      <th>55</th>\n",
       "      <td>Вінницька</td>\n",
       "      <td>2010</td>\n",
       "      <td>1650608.0</td>\n",
       "    </tr>\n",
       "    <tr>\n",
       "      <th>56</th>\n",
       "      <td>Вінницька</td>\n",
       "      <td>2011</td>\n",
       "      <td>1641201.0</td>\n",
       "    </tr>\n",
       "    <tr>\n",
       "      <th>57</th>\n",
       "      <td>Вінницька</td>\n",
       "      <td>2012</td>\n",
       "      <td>1634187.0</td>\n",
       "    </tr>\n",
       "  </tbody>\n",
       "</table>\n",
       "</div>"
      ],
      "text/plain": [
       "       region  year  population\n",
       "53  Вінницька  2008   1672217.0\n",
       "54  Вінницька  2009   1659975.0\n",
       "55  Вінницька  2010   1650608.0\n",
       "56  Вінницька  2011   1641201.0\n",
       "57  Вінницька  2012   1634187.0"
      ]
     },
     "execution_count": 19,
     "metadata": {},
     "output_type": "execute_result"
    }
   ],
   "source": [
    "population = pd.read_csv(\"population.csv\")\n",
    "population = population.rename(columns={\"Територіальний розріз\": \"region\", \"Період\": \"year\", \"Значення cпостереження\": \"population\"})\n",
    "\n",
    "population = population[population[\"year\"] >= 2008]\n",
    "\n",
    "population = population[~population.region.isin(exclude_regions)]\n",
    "\n",
    "population.head()"
   ]
  },
  {
   "cell_type": "code",
   "execution_count": 20,
   "metadata": {},
   "outputs": [
    {
     "data": {
      "text/plain": [
       "(np.int64(2008), np.int64(2022))"
      ]
     },
     "execution_count": 20,
     "metadata": {},
     "output_type": "execute_result"
    }
   ],
   "source": [
    "population.year.min(), population.year.max()"
   ]
  },
  {
   "cell_type": "markdown",
   "metadata": {},
   "source": [
    "# Datasets"
   ]
  },
  {
   "cell_type": "markdown",
   "metadata": {},
   "source": [
    "### Age Group - dataset"
   ]
  },
  {
   "cell_type": "code",
   "execution_count": 21,
   "metadata": {
    "ExecuteTime": {
     "end_time": "2025-03-20T17:10:25.386232Z",
     "start_time": "2025-03-20T17:10:14.688374Z"
    }
   },
   "outputs": [],
   "source": [
    "age_group_incidence = pd.merge(incidence, aggregated_f47_0100_df, on=['year', 'region'], how='left')\n",
    "age_group_incidence = pd.merge(age_group_incidence, equipment_df, on=[\"year\", \"region\"], how=\"left\")\n",
    "age_group_incidence = pd.merge(age_group_incidence, gdp, on=[\"year\", \"region\"], how=\"left\")\n",
    "age_group_incidence = pd.merge(age_group_incidence, air_pollution_df, on=[\"year\", \"region\"], how=\"left\")\n",
    "age_group_incidence = pd.merge(age_group_incidence, water_pollution, on=[\"year\", \"region\"], how=\"left\")\n",
    "age_group_incidence = pd.merge(age_group_incidence, cpi, on=\"year\", how=\"left\")\n",
    "age_group_incidence = pd.merge(age_group_incidence, population, on=['year', 'region'], how='left')\n",
    "\n",
    "age_group_incidence = age_group_incidence.drop_duplicates(subset=['year', 'region', 'category', 'age_group'])\n",
    "\n",
    "age_group_incidence.to_csv(\"age_group_incidence.csv\", index=False)"
   ]
  },
  {
   "cell_type": "code",
   "execution_count": 22,
   "metadata": {},
   "outputs": [],
   "source": [
    "total_male_category = \"Злоякiснi новоутворення-всього         C00-C97    ч\"\n",
    "total_female_category = \"C00-C97    ж\"\n",
    "total_incidences_in_regions = age_group_incidence[age_group_incidence.category.isin([total_male_category, total_female_category])].groupby(['region', 'year']).agg({'incidence': 'sum'}).reset_index()\n",
    "total_incidences_in_regions = total_incidences_in_regions.rename(columns={\"incidence\": \"tincidence\"})\n"
   ]
  },
  {
   "cell_type": "markdown",
   "metadata": {},
   "source": [
    "### Stage dataset"
   ]
  },
  {
   "cell_type": "code",
   "execution_count": 26,
   "metadata": {
    "ExecuteTime": {
     "end_time": "2025-03-20T17:10:25.418344Z",
     "start_time": "2025-03-20T17:10:25.400743Z"
    }
   },
   "outputs": [],
   "source": [
    "stage_dataset = pd.merge(stage_incidence, aggregated_f47_0100_df, on=['year', 'region'], how='left')\n",
    "stage_dataset = pd.merge(stage_dataset, equipment_df, on=[\"year\", \"region\"], how=\"left\")\n",
    "# stage_dataset = pd.merge(stage_dataset, gdp, on=[\"year\", \"region\"], how=\"left\")\n",
    "stage_dataset = pd.merge(stage_dataset, air_pollution_df, on=[\"year\", \"region\"], how=\"left\")\n",
    "stage_dataset = pd.merge(stage_dataset, water_pollution, on=[\"year\", \"region\"], how=\"left\")\n",
    "stage_dataset = pd.merge(stage_dataset, cpi, on=\"year\", how=\"left\")\n",
    "stage_dataset = pd.merge(stage_dataset, population, on=['year', 'region'], how='left')\n",
    "stage_dataset = pd.merge(stage_dataset, total_incidences_in_regions, on=['year', 'region'], how='left')\n",
    "\n",
    "stage_dataset = stage_dataset.drop_duplicates(subset=['year', 'region'])\n",
    "\n",
    "stage_dataset.to_csv(\"stage_incidence.csv\", index=False)"
   ]
  }
 ],
 "metadata": {
  "kernelspec": {
   "display_name": "ml",
   "language": "python",
   "name": "python3"
  },
  "language_info": {
   "codemirror_mode": {
    "name": "ipython",
    "version": 3
   },
   "file_extension": ".py",
   "mimetype": "text/x-python",
   "name": "python",
   "nbconvert_exporter": "python",
   "pygments_lexer": "ipython3",
   "version": "3.12.3"
  }
 },
 "nbformat": 4,
 "nbformat_minor": 2
}
