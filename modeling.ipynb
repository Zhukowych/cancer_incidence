{
 "cells": [
  {
   "cell_type": "code",
   "execution_count": 522,
   "metadata": {},
   "outputs": [],
   "source": [
    "import ipywidgets as widgets\n",
    "from IPython.display import display\n",
    "\n",
    "import pandas as pd\n",
    "import numpy as np\n",
    "import matplotlib.pyplot as plt\n",
    "import seaborn as sns\n",
    "import statsmodels.formula.api as smf\n",
    "import statsmodels.api as sm\n",
    "from statsmodels.stats.stattools import durbin_watson\n",
    "from statsmodels.stats.outliers_influence import variance_inflation_factor\n",
    "import warnings\n",
    "\n",
    "warnings.filterwarnings('ignore')"
   ]
  },
  {
   "cell_type": "markdown",
   "metadata": {},
   "source": [
    "# Modeling Incidence"
   ]
  },
  {
   "cell_type": "markdown",
   "metadata": {},
   "source": [
    "In this notebook we present modeling of  two metrics of cancer incidence number of tumors located **insitu** per 1000 of totally diagnozed tumors (insitu means that abnormal cells have been found in their place of origin but have not spread to nearby tissues). And number of diagnozed **multiple tumors** per 1000 cases\n",
    "\n",
    "The following model must reflect ongoing reforms in Ukrainian medical system as well as COVID19 outbreak and full-scale invasion in 2022"
   ]
  },
  {
   "cell_type": "code",
   "execution_count": 523,
   "metadata": {},
   "outputs": [],
   "source": [
    "st_df = pd.read_csv('./final_dataset/stage_incidence_features.csv')"
   ]
  },
  {
   "cell_type": "code",
   "execution_count": 524,
   "metadata": {},
   "outputs": [
    {
     "name": "stdout",
     "output_type": "stream",
     "text": [
      "<class 'pandas.core.frame.DataFrame'>\n",
      "RangeIndex: 384 entries, 0 to 383\n",
      "Data columns (total 48 columns):\n",
      " #   Column                    Non-Null Count  Dtype  \n",
      "---  ------                    --------------  -----  \n",
      " 0   year                      384 non-null    int64  \n",
      " 1   region                    384 non-null    object \n",
      " 2   mtumors                   384 non-null    float64\n",
      " 3   syncmtumors               384 non-null    float64\n",
      " 4   insitu                    384 non-null    float64\n",
      " 5   ncervix                   384 non-null    float64\n",
      " 6   nhospotal_pht             384 non-null    float64\n",
      " 7   nbeds_pht                 384 non-null    float64\n",
      " 8   ybeds_pht                 384 non-null    float64\n",
      " 9   nill_pht                  384 non-null    float64\n",
      " 10  nvillage_ill_pht          384 non-null    float64\n",
      " 11  bed_days_pht              384 non-null    float64\n",
      " 12  dvisits_pht               384 non-null    float64\n",
      " 13  hvisits_pht               384 non-null    float64\n",
      " 14  ndoctors_pht              384 non-null    float64\n",
      " 15  nnursing_pht              384 non-null    float64\n",
      " 16  nx_ray_pht                384 non-null    float64\n",
      " 17  nflurography_pht          384 non-null    float64\n",
      " 18  nradiology_pht            384 non-null    float64\n",
      " 19  nradlab_pht               384 non-null    float64\n",
      " 20  nсt_pht                   384 non-null    float64\n",
      " 21  ncardiogram_pht           384 non-null    float64\n",
      " 22  ndiaglab_pht              384 non-null    float64\n",
      " 23  nbacter_pht               384 non-null    float64\n",
      " 24  nbiochem_pht              384 non-null    float64\n",
      " 25  ncyto_pht                 384 non-null    float64\n",
      " 26  nimun_pht                 384 non-null    float64\n",
      " 27  nphysic_pht               384 non-null    float64\n",
      " 28  nendoscop_pht             384 non-null    float64\n",
      " 29  nultrasound_pht           384 non-null    float64\n",
      " 30  ndialysis_pht             384 non-null    float64\n",
      " 31  air_pollution             384 non-null    float64\n",
      " 32  polluted_dumps            384 non-null    float64\n",
      " 33  not_cleaned_dumps         384 non-null    float64\n",
      " 34  dumps_not_cleaned_enough  384 non-null    float64\n",
      " 35  num_clearing_plants       384 non-null    float64\n",
      " 36  cpi                       384 non-null    float64\n",
      " 37  population                384 non-null    float64\n",
      " 38  tincidence_pht            384 non-null    float64\n",
      " 39  mtumors_pht               384 non-null    float64\n",
      " 40  syncmtumors_pht           384 non-null    float64\n",
      " 41  insitu_pht                384 non-null    float64\n",
      " 42  insitu_pti                384 non-null    float64\n",
      " 43  mtumors_pti               384 non-null    float64\n",
      " 44  t                         384 non-null    int64  \n",
      " 45  gdp                       384 non-null    int64  \n",
      " 46  aging_level               384 non-null    float64\n",
      " 47  mean_age                  384 non-null    float64\n",
      "dtypes: float64(44), int64(3), object(1)\n",
      "memory usage: 144.1+ KB\n"
     ]
    }
   ],
   "source": [
    "st_df.info()"
   ]
  },
  {
   "cell_type": "code",
   "execution_count": 525,
   "metadata": {},
   "outputs": [],
   "source": [
    "st_df = st_df.drop(columns=['tincidence_pht', 'mtumors', 'syncmtumors', 'insitu', 'ncervix', 'nvillage_ill_pht',\n",
    "                            'hvisits_pht', 'ndialysis_pht', 'ndialysis_pht', 'nbacter_pht', 'polluted_dumps', \n",
    "                            'not_cleaned_dumps', 'dumps_not_cleaned_enough', 'num_clearing_plants', 'nphysic_pht'])"
   ]
  },
  {
   "cell_type": "code",
   "execution_count": 526,
   "metadata": {},
   "outputs": [
    {
     "data": {
      "text/plain": [
       "Index(['year', 'region', 'nhospotal_pht', 'nbeds_pht', 'ybeds_pht', 'nill_pht',\n",
       "       'bed_days_pht', 'dvisits_pht', 'ndoctors_pht', 'nnursing_pht',\n",
       "       'nx_ray_pht', 'nflurography_pht', 'nradiology_pht', 'nradlab_pht',\n",
       "       'nсt_pht', 'ncardiogram_pht', 'ndiaglab_pht', 'nbiochem_pht',\n",
       "       'ncyto_pht', 'nimun_pht', 'nendoscop_pht', 'nultrasound_pht',\n",
       "       'air_pollution', 'cpi', 'population', 'mtumors_pht', 'syncmtumors_pht',\n",
       "       'insitu_pht', 'insitu_pti', 'mtumors_pti', 't', 'gdp', 'aging_level',\n",
       "       'mean_age'],\n",
       "      dtype='object')"
      ]
     },
     "execution_count": 526,
     "metadata": {},
     "output_type": "execute_result"
    }
   ],
   "source": [
    "st_df.columns"
   ]
  },
  {
   "cell_type": "markdown",
   "metadata": {},
   "source": [
    "## Events that need to be accounted"
   ]
  },
  {
   "cell_type": "markdown",
   "metadata": {},
   "source": [
    "1. **2012** - start of reorganization of medical system\n",
    "2. **2014** - moratorium on reargonization to same existing medical system at the start of the war\n",
    "3. **2015** - withdrawal of the moratorium \n",
    "4. **2017** - **2018** - creation of medical districts\n",
    "5. **2018** - creation of National Health Service of Ukraine\n",
    "6. **2020** - out break\n",
    "7. **2022** - start of full-scale invasion\n",
    "\n",
    "To model these events variables **reorg**, **morat**, **mdistrict**, **nhsu**, **cov**, **inv** will be added. \n",
    "Also interaction varables must be added"
   ]
  },
  {
   "cell_type": "code",
   "execution_count": 527,
   "metadata": {},
   "outputs": [],
   "source": [
    "st_df['reorg'] = ((st_df.year >= 2012) & (st_df.year < 2014)).astype(int)\n",
    "# st_df['morat'] = ((st_df.year >= 2014) & (st_df.year < 2015)).astype(int)\n",
    "st_df['inner'] = ((st_df.year >= 2014) & (st_df.year < 2018)).astype(int)\n",
    "st_df['nhsu'] = ((st_df.year >= 2018) & (st_df.year < 2019)).astype(int)\n",
    "st_df['cov'] = ((st_df.year >= 2020) & (st_df.year < 2022)).astype(int)\n",
    "st_df['inv'] = (st_df.year >= 2022).astype(int)"
   ]
  },
  {
   "cell_type": "code",
   "execution_count": 528,
   "metadata": {},
   "outputs": [],
   "source": [
    "\n",
    "equipment_variables = [\n",
    "    'nhospotal_pht', 'nbeds_pht', 'nx_ray_pht', 'nflurography_pht',\n",
    "    'nradiology_pht', 'nradlab_pht', 'nсt_pht', 'ncardiogram_pht', 'ndiaglab_pht',\n",
    "    'nbiochem_pht', 'ncyto_pht', 'nimun_pht', 'nendoscop_pht', 'nultrasound_pht',\n",
    "]\n",
    "\n",
    "personnel_variables = ['ndoctors_pht', 'nnursing_pht']\n",
    "\n",
    "illness_variables = ['nill_pht']\n",
    "\n",
    "environmental_variables = [\n",
    "    'air_pollution'\n",
    "]\n",
    "\n",
    "dummies = ['reorg', 'inner', 'nhsu', 'cov']\n",
    "\n",
    "economic_variables = [\"gdp\", \"mean_age\", \"aging_level\"]\n",
    "\n",
    "all_explanatory_variables = equipment_variables + personnel_variables + illness_variables + environmental_variables + economic_variables\n",
    "\n",
    "all_dependent_variables = ['mtumors_pti']"
   ]
  },
  {
   "cell_type": "markdown",
   "metadata": {},
   "source": [
    "Also interaction terms must be added\n",
    "\n",
    "1. Equipment variables must have interaction with **reorg**, **mdistrict**, **nhsu**\n",
    "2. Personnel varaibles must have interaction with **reorg**, **mdistrict**, **nhsu**, **cov**, **inv**\n",
    "3. Illness variables must have interaction with **reorg**, **mdistrict**, **nhsu**, **cov**, **inv** \n"
   ]
  },
  {
   "cell_type": "code",
   "execution_count": 529,
   "metadata": {},
   "outputs": [],
   "source": [
    "def add_interactions(df, interactions: list[str], x_names: list[str]):\n",
    "    interaction_names = []\n",
    "    for interaction in interactions:\n",
    "        for x_name in x_names:\n",
    "            interaction_name = f\"{interaction}_{x_name}\"\n",
    "            df[interaction_name] = df[interaction] * df[x_name]\n",
    "            interaction_names.append(interaction_name)\n",
    "    return df, interaction_names \n",
    "\n",
    "# st_df, _ = add_interactions(st_df, ['reorg', \"morat\", 'inner', 'mdistrict', 'nhsu', 'cov'], equipment_variables)\n",
    "# st_df, _ = add_interactions(st_df, ['reorg', \"morat\", 'inner', 'mdistrict', 'nhsu', 'cov'], personnel_variables)\n",
    "# st_df, _ = add_interactions(st_df, ['reorg', \"morat\", 'inner', 'mdistrict', 'nhsu', 'cov'], illness_variables)"
   ]
  },
  {
   "cell_type": "markdown",
   "metadata": {},
   "source": [
    "## Trend account"
   ]
  },
  {
   "cell_type": "code",
   "execution_count": 530,
   "metadata": {},
   "outputs": [],
   "source": [
    "st_df['t'] = st_df['year'] - 2008"
   ]
  },
  {
   "cell_type": "code",
   "execution_count": 531,
   "metadata": {},
   "outputs": [],
   "source": [
    "\n",
    "def coupled_detrend(df: pd.DataFrame, x_names: list[str]):\n",
    "    df = df.copy()\n",
    "    years = sorted(df.year.unique())\n",
    "    for x_name in x_names:\n",
    "        for year in years:\n",
    "            x_at_year = df[df.year == year][x_name]\n",
    "            df.loc[df.year == year, x_name] = x_at_year - x_at_year.mean()\n",
    "    \n",
    "    return df\n"
   ]
  },
  {
   "cell_type": "markdown",
   "metadata": {},
   "source": [
    "## Quick fixes"
   ]
  },
  {
   "cell_type": "code",
   "execution_count": 532,
   "metadata": {},
   "outputs": [],
   "source": [
    "st_df = st_df[st_df.year <= 2021]\n",
    "st_df = st_df[~st_df.region.isin(['Донецька', 'Луганська'])]"
   ]
  },
  {
   "cell_type": "markdown",
   "metadata": {},
   "source": [
    "## Model selection"
   ]
  },
  {
   "cell_type": "code",
   "execution_count": 533,
   "metadata": {},
   "outputs": [],
   "source": [
    "def select_best_model_for(df: pd.DataFrame, target: str, ommit: list[str]) -> tuple[sm.OLS, list[str]]:\n",
    "    predictors = df.drop(columns=ommit + [target], errors=\"ignore\")\n",
    "\n",
    "    predictors = predictors.select_dtypes(include=[\"number\"])\n",
    "    \n",
    "    X = predictors.copy()\n",
    "    y = df[target]\n",
    "    \n",
    "    X = sm.add_constant(X)\n",
    "    \n",
    "    best_model = sm.OLS(y, X).fit()\n",
    "\n",
    "    best_aic = np.inf\n",
    "\n",
    "    to_drop = None\n",
    "\n",
    "    while len(X.columns) > 0:\n",
    "        aic_not_changed = True\n",
    "            \n",
    "        for col in X.columns:\n",
    "            temp_X = X.drop(col, axis = 1)\n",
    "            temp_model = sm.OLS(y, temp_X).fit()\n",
    "            if temp_model.aic < best_aic:\n",
    "                best_aic = temp_model.aic\n",
    "                best_model = temp_model\n",
    "                to_drop = col\n",
    "                aic_not_changed = False\n",
    "\n",
    "        if aic_not_changed:\n",
    "            break\n",
    "\n",
    "        X = X.drop(to_drop, axis = 1)\n",
    "    \n",
    "    return best_model\n",
    "\n"
   ]
  },
  {
   "cell_type": "code",
   "execution_count": 534,
   "metadata": {},
   "outputs": [],
   "source": [
    "ommit = [\"age_group\", \"year\", \"region\", \"category\",  'mtumors_pht', 'syncmtumors_pht',\n",
    "         'insitu_pht', 'insitu_pti', 'mtumors_pti', 'ncervix', 'mtumors', 'syncmtumors', 'insitu', \n",
    "         'gdp', 'mtumors_pti', 'tincidence', 'cpi', 'ybeds_pht', 'population']"
   ]
  },
  {
   "cell_type": "code",
   "execution_count": 535,
   "metadata": {},
   "outputs": [],
   "source": [
    "def get_interpretation_table(params, explanatory_names):\n",
    "\n",
    "    interpretation_table = {dummy: [] for dummy in dummies}\n",
    "    interpretation_table.update({\"base\": None})\n",
    "\n",
    "    interpretation_table[\"base\"] = [params.get(x_name, 0) for x_name in explanatory_names]\n",
    "\n",
    "    for dummy in dummies:\n",
    "        for x_name in explanatory_names:\n",
    "            total_impact = params.get(x_name, 0) + params.get(f\"{dummy}_{x_name}\", 0)\n",
    "            interpretation_table[dummy].append(total_impact)\n",
    "        \n",
    "    return pd.DataFrame(interpretation_table, index=explanatory_names)"
   ]
  },
  {
   "cell_type": "markdown",
   "metadata": {},
   "source": [
    "### Simple model"
   ]
  },
  {
   "cell_type": "code",
   "execution_count": 536,
   "metadata": {},
   "outputs": [],
   "source": [
    "explanatory_variables = ['ndiaglab_pht', 'ndoctors_pht', 'dvisits_pht',\n",
    "                        'nсt_pht', 'nimun_pht', 'nradlab_pht', \n",
    "                        'nbiochem_pht', 'ncyto_pht',\n",
    "                        'air_pollution']\n",
    "\n",
    "dummies = ['reorg','inner', 'nhsu']\n",
    "\n",
    "variables = explanatory_variables + dummies\n",
    "df = st_df[variables + all_dependent_variables + ['t', 'year', 'region'] + economic_variables]\n",
    "df['dvisits_pht'] /= df['ndoctors_pht']\n",
    "\n",
    "\n",
    "variables += ['mdevindex']\n",
    "\n",
    "df['mdevindex'] = st_df[['nx_ray_pht', 'nflurography_pht', 'nultrasound_pht']].min(axis=1)\n",
    "\n",
    "df, interaction_names = add_interactions(df, dummies, explanatory_variables + ['mdevindex'])\n",
    "df = coupled_detrend(df, variables + all_dependent_variables)\n"
   ]
  },
  {
   "cell_type": "markdown",
   "metadata": {},
   "source": [
    "## Multiple regression"
   ]
  },
  {
   "cell_type": "code",
   "execution_count": 537,
   "metadata": {},
   "outputs": [
    {
     "name": "stdout",
     "output_type": "stream",
     "text": [
      "0.47352772772521934\n"
     ]
    },
    {
     "data": {
      "text/html": [
       "<div>\n",
       "<style scoped>\n",
       "    .dataframe tbody tr th:only-of-type {\n",
       "        vertical-align: middle;\n",
       "    }\n",
       "\n",
       "    .dataframe tbody tr th {\n",
       "        vertical-align: top;\n",
       "    }\n",
       "\n",
       "    .dataframe thead th {\n",
       "        text-align: right;\n",
       "    }\n",
       "</style>\n",
       "<table border=\"1\" class=\"dataframe\">\n",
       "  <thead>\n",
       "    <tr style=\"text-align: right;\">\n",
       "      <th></th>\n",
       "      <th>reorg</th>\n",
       "      <th>inner</th>\n",
       "      <th>nhsu</th>\n",
       "      <th>base</th>\n",
       "    </tr>\n",
       "  </thead>\n",
       "  <tbody>\n",
       "    <tr>\n",
       "      <th>ndiaglab_pht</th>\n",
       "      <td>-0.549033</td>\n",
       "      <td>-1.230425</td>\n",
       "      <td>-0.968986</td>\n",
       "      <td>-0.427364</td>\n",
       "    </tr>\n",
       "    <tr>\n",
       "      <th>ndoctors_pht</th>\n",
       "      <td>-0.025393</td>\n",
       "      <td>0.024396</td>\n",
       "      <td>0.072318</td>\n",
       "      <td>0.041164</td>\n",
       "    </tr>\n",
       "    <tr>\n",
       "      <th>dvisits_pht</th>\n",
       "      <td>0.027714</td>\n",
       "      <td>0.019131</td>\n",
       "      <td>0.016979</td>\n",
       "      <td>0.017486</td>\n",
       "    </tr>\n",
       "    <tr>\n",
       "      <th>nсt_pht</th>\n",
       "      <td>-11.656931</td>\n",
       "      <td>-5.841255</td>\n",
       "      <td>-24.363165</td>\n",
       "      <td>-11.840650</td>\n",
       "    </tr>\n",
       "    <tr>\n",
       "      <th>nimun_pht</th>\n",
       "      <td>22.921005</td>\n",
       "      <td>-29.797686</td>\n",
       "      <td>-50.733564</td>\n",
       "      <td>2.561671</td>\n",
       "    </tr>\n",
       "    <tr>\n",
       "      <th>nradlab_pht</th>\n",
       "      <td>77.910767</td>\n",
       "      <td>54.149949</td>\n",
       "      <td>29.994839</td>\n",
       "      <td>25.813267</td>\n",
       "    </tr>\n",
       "    <tr>\n",
       "      <th>nbiochem_pht</th>\n",
       "      <td>-48.049415</td>\n",
       "      <td>-9.058897</td>\n",
       "      <td>26.816832</td>\n",
       "      <td>-7.529994</td>\n",
       "    </tr>\n",
       "    <tr>\n",
       "      <th>ncyto_pht</th>\n",
       "      <td>26.631840</td>\n",
       "      <td>50.068359</td>\n",
       "      <td>9.297521</td>\n",
       "      <td>6.390101</td>\n",
       "    </tr>\n",
       "    <tr>\n",
       "      <th>air_pollution</th>\n",
       "      <td>0.014098</td>\n",
       "      <td>0.016773</td>\n",
       "      <td>0.016375</td>\n",
       "      <td>-0.003307</td>\n",
       "    </tr>\n",
       "    <tr>\n",
       "      <th>mdevindex</th>\n",
       "      <td>-6.557696</td>\n",
       "      <td>-3.438806</td>\n",
       "      <td>-2.511345</td>\n",
       "      <td>-3.163759</td>\n",
       "    </tr>\n",
       "  </tbody>\n",
       "</table>\n",
       "</div>"
      ],
      "text/plain": [
       "                   reorg      inner       nhsu       base\n",
       "ndiaglab_pht   -0.549033  -1.230425  -0.968986  -0.427364\n",
       "ndoctors_pht   -0.025393   0.024396   0.072318   0.041164\n",
       "dvisits_pht     0.027714   0.019131   0.016979   0.017486\n",
       "nсt_pht       -11.656931  -5.841255 -24.363165 -11.840650\n",
       "nimun_pht      22.921005 -29.797686 -50.733564   2.561671\n",
       "nradlab_pht    77.910767  54.149949  29.994839  25.813267\n",
       "nbiochem_pht  -48.049415  -9.058897  26.816832  -7.529994\n",
       "ncyto_pht      26.631840  50.068359   9.297521   6.390101\n",
       "air_pollution   0.014098   0.016773   0.016375  -0.003307\n",
       "mdevindex      -6.557696  -3.438806  -2.511345  -3.163759"
      ]
     },
     "execution_count": 537,
     "metadata": {},
     "output_type": "execute_result"
    }
   ],
   "source": [
    "# Identify and display the rows where GDP is missing\n",
    "missing_gdp = df[df['gdp'].isna()][['year', 'region']]\n",
    "\n",
    "\n",
    "y = df['mtumors_pti']\n",
    "X = sm.add_constant(df[explanatory_variables + interaction_names + [\"mdevindex\"]+economic_variables])\n",
    "\n",
    "mtumors_model = sm.OLS(y, X).fit()\n",
    "\n",
    "print(mtumors_model.rsquared_adj)\n",
    "get_interpretation_table(mtumors_model.params, explanatory_variables + ['mdevindex'])"
   ]
  },
  {
   "cell_type": "code",
   "execution_count": 538,
   "metadata": {},
   "outputs": [
    {
     "data": {
      "text/html": [
       "<table class=\"simpletable\">\n",
       "<caption>OLS Regression Results</caption>\n",
       "<tr>\n",
       "  <th>Dep. Variable:</th>       <td>mtumors_pti</td>   <th>  R-squared:         </th> <td>   0.538</td>\n",
       "</tr>\n",
       "<tr>\n",
       "  <th>Model:</th>                   <td>OLS</td>       <th>  Adj. R-squared:    </th> <td>   0.474</td>\n",
       "</tr>\n",
       "<tr>\n",
       "  <th>Method:</th>             <td>Least Squares</td>  <th>  F-statistic:       </th> <td>   8.342</td>\n",
       "</tr>\n",
       "<tr>\n",
       "  <th>Date:</th>             <td>Sun, 20 Apr 2025</td> <th>  Prob (F-statistic):</th> <td>1.90e-31</td>\n",
       "</tr>\n",
       "<tr>\n",
       "  <th>Time:</th>                 <td>18:42:26</td>     <th>  Log-Likelihood:    </th> <td> -1261.8</td>\n",
       "</tr>\n",
       "<tr>\n",
       "  <th>No. Observations:</th>      <td>   352</td>      <th>  AIC:               </th> <td>   2612.</td>\n",
       "</tr>\n",
       "<tr>\n",
       "  <th>Df Residuals:</th>          <td>   308</td>      <th>  BIC:               </th> <td>   2782.</td>\n",
       "</tr>\n",
       "<tr>\n",
       "  <th>Df Model:</th>              <td>    43</td>      <th>                     </th>     <td> </td>   \n",
       "</tr>\n",
       "<tr>\n",
       "  <th>Covariance Type:</th>      <td>nonrobust</td>    <th>                     </th>     <td> </td>   \n",
       "</tr>\n",
       "</table>\n",
       "<table class=\"simpletable\">\n",
       "<tr>\n",
       "           <td></td>              <th>coef</th>     <th>std err</th>      <th>t</th>      <th>P>|t|</th>  <th>[0.025</th>    <th>0.975]</th>  \n",
       "</tr>\n",
       "<tr>\n",
       "  <th>const</th>               <td> -158.6844</td> <td>   32.525</td> <td>   -4.879</td> <td> 0.000</td> <td> -222.683</td> <td>  -94.686</td>\n",
       "</tr>\n",
       "<tr>\n",
       "  <th>ndiaglab_pht</th>        <td>   -0.4274</td> <td>    0.366</td> <td>   -1.167</td> <td> 0.244</td> <td>   -1.148</td> <td>    0.293</td>\n",
       "</tr>\n",
       "<tr>\n",
       "  <th>ndoctors_pht</th>        <td>    0.0412</td> <td>    0.035</td> <td>    1.175</td> <td> 0.241</td> <td>   -0.028</td> <td>    0.110</td>\n",
       "</tr>\n",
       "<tr>\n",
       "  <th>dvisits_pht</th>         <td>    0.0175</td> <td>    0.002</td> <td>    7.041</td> <td> 0.000</td> <td>    0.013</td> <td>    0.022</td>\n",
       "</tr>\n",
       "<tr>\n",
       "  <th>nсt_pht</th>             <td>  -11.8407</td> <td>    5.623</td> <td>   -2.106</td> <td> 0.036</td> <td>  -22.906</td> <td>   -0.776</td>\n",
       "</tr>\n",
       "<tr>\n",
       "  <th>nimun_pht</th>           <td>    2.5617</td> <td>    9.744</td> <td>    0.263</td> <td> 0.793</td> <td>  -16.611</td> <td>   21.735</td>\n",
       "</tr>\n",
       "<tr>\n",
       "  <th>nradlab_pht</th>         <td>   25.8133</td> <td>   12.902</td> <td>    2.001</td> <td> 0.046</td> <td>    0.427</td> <td>   51.200</td>\n",
       "</tr>\n",
       "<tr>\n",
       "  <th>nbiochem_pht</th>        <td>   -7.5300</td> <td>    8.565</td> <td>   -0.879</td> <td> 0.380</td> <td>  -24.384</td> <td>    9.324</td>\n",
       "</tr>\n",
       "<tr>\n",
       "  <th>ncyto_pht</th>           <td>    6.3901</td> <td>    8.757</td> <td>    0.730</td> <td> 0.466</td> <td>  -10.841</td> <td>   23.621</td>\n",
       "</tr>\n",
       "<tr>\n",
       "  <th>air_pollution</th>       <td>   -0.0033</td> <td>    0.005</td> <td>   -0.636</td> <td> 0.525</td> <td>   -0.014</td> <td>    0.007</td>\n",
       "</tr>\n",
       "<tr>\n",
       "  <th>reorg_ndiaglab_pht</th>  <td>   -0.1217</td> <td>    0.909</td> <td>   -0.134</td> <td> 0.894</td> <td>   -1.911</td> <td>    1.667</td>\n",
       "</tr>\n",
       "<tr>\n",
       "  <th>reorg_ndoctors_pht</th>  <td>   -0.0666</td> <td>    0.107</td> <td>   -0.624</td> <td> 0.533</td> <td>   -0.276</td> <td>    0.143</td>\n",
       "</tr>\n",
       "<tr>\n",
       "  <th>reorg_dvisits_pht</th>   <td>    0.0102</td> <td>    0.011</td> <td>    0.962</td> <td> 0.337</td> <td>   -0.011</td> <td>    0.031</td>\n",
       "</tr>\n",
       "<tr>\n",
       "  <th>reorg_nсt_pht</th>       <td>    0.1837</td> <td>   23.822</td> <td>    0.008</td> <td> 0.994</td> <td>  -46.691</td> <td>   47.058</td>\n",
       "</tr>\n",
       "<tr>\n",
       "  <th>reorg_nimun_pht</th>     <td>   20.3593</td> <td>   34.084</td> <td>    0.597</td> <td> 0.551</td> <td>  -46.707</td> <td>   87.426</td>\n",
       "</tr>\n",
       "<tr>\n",
       "  <th>reorg_nradlab_pht</th>   <td>   52.0975</td> <td>   46.926</td> <td>    1.110</td> <td> 0.268</td> <td>  -40.239</td> <td>  144.434</td>\n",
       "</tr>\n",
       "<tr>\n",
       "  <th>reorg_nbiochem_pht</th>  <td>  -40.5194</td> <td>   36.358</td> <td>   -1.114</td> <td> 0.266</td> <td> -112.060</td> <td>   31.021</td>\n",
       "</tr>\n",
       "<tr>\n",
       "  <th>reorg_ncyto_pht</th>     <td>   20.2417</td> <td>   27.464</td> <td>    0.737</td> <td> 0.462</td> <td>  -33.800</td> <td>   74.283</td>\n",
       "</tr>\n",
       "<tr>\n",
       "  <th>reorg_air_pollution</th> <td>    0.0174</td> <td>    0.015</td> <td>    1.181</td> <td> 0.238</td> <td>   -0.012</td> <td>    0.046</td>\n",
       "</tr>\n",
       "<tr>\n",
       "  <th>reorg_mdevindex</th>     <td>   -3.3939</td> <td>    6.075</td> <td>   -0.559</td> <td> 0.577</td> <td>  -15.348</td> <td>    8.560</td>\n",
       "</tr>\n",
       "<tr>\n",
       "  <th>inner_ndiaglab_pht</th>  <td>   -0.8031</td> <td>    0.693</td> <td>   -1.160</td> <td> 0.247</td> <td>   -2.166</td> <td>    0.560</td>\n",
       "</tr>\n",
       "<tr>\n",
       "  <th>inner_ndoctors_pht</th>  <td>   -0.0168</td> <td>    0.057</td> <td>   -0.297</td> <td> 0.767</td> <td>   -0.128</td> <td>    0.094</td>\n",
       "</tr>\n",
       "<tr>\n",
       "  <th>inner_dvisits_pht</th>   <td>    0.0016</td> <td>    0.005</td> <td>    0.342</td> <td> 0.733</td> <td>   -0.008</td> <td>    0.011</td>\n",
       "</tr>\n",
       "<tr>\n",
       "  <th>inner_nсt_pht</th>       <td>    5.9994</td> <td>   10.516</td> <td>    0.570</td> <td> 0.569</td> <td>  -14.694</td> <td>   26.693</td>\n",
       "</tr>\n",
       "<tr>\n",
       "  <th>inner_nimun_pht</th>     <td>  -32.3594</td> <td>   17.517</td> <td>   -1.847</td> <td> 0.066</td> <td>  -66.828</td> <td>    2.109</td>\n",
       "</tr>\n",
       "<tr>\n",
       "  <th>inner_nradlab_pht</th>   <td>   28.3367</td> <td>   22.765</td> <td>    1.245</td> <td> 0.214</td> <td>  -16.459</td> <td>   73.132</td>\n",
       "</tr>\n",
       "<tr>\n",
       "  <th>inner_nbiochem_pht</th>  <td>   -1.5289</td> <td>   20.609</td> <td>   -0.074</td> <td> 0.941</td> <td>  -42.082</td> <td>   39.024</td>\n",
       "</tr>\n",
       "<tr>\n",
       "  <th>inner_ncyto_pht</th>     <td>   43.6783</td> <td>   16.909</td> <td>    2.583</td> <td> 0.010</td> <td>   10.406</td> <td>   76.950</td>\n",
       "</tr>\n",
       "<tr>\n",
       "  <th>inner_air_pollution</th> <td>    0.0201</td> <td>    0.009</td> <td>    2.289</td> <td> 0.023</td> <td>    0.003</td> <td>    0.037</td>\n",
       "</tr>\n",
       "<tr>\n",
       "  <th>inner_mdevindex</th>     <td>   -0.2750</td> <td>    3.751</td> <td>   -0.073</td> <td> 0.942</td> <td>   -7.656</td> <td>    7.106</td>\n",
       "</tr>\n",
       "<tr>\n",
       "  <th>nhsu_ndiaglab_pht</th>   <td>   -0.5416</td> <td>    2.601</td> <td>   -0.208</td> <td> 0.835</td> <td>   -5.660</td> <td>    4.577</td>\n",
       "</tr>\n",
       "<tr>\n",
       "  <th>nhsu_ndoctors_pht</th>   <td>    0.0312</td> <td>    0.136</td> <td>    0.229</td> <td> 0.819</td> <td>   -0.237</td> <td>    0.299</td>\n",
       "</tr>\n",
       "<tr>\n",
       "  <th>nhsu_dvisits_pht</th>    <td>   -0.0005</td> <td>    0.011</td> <td>   -0.048</td> <td> 0.962</td> <td>   -0.021</td> <td>    0.020</td>\n",
       "</tr>\n",
       "<tr>\n",
       "  <th>nhsu_nсt_pht</th>        <td>  -12.5225</td> <td>   18.276</td> <td>   -0.685</td> <td> 0.494</td> <td>  -48.485</td> <td>   23.440</td>\n",
       "</tr>\n",
       "<tr>\n",
       "  <th>nhsu_nimun_pht</th>      <td>  -53.2952</td> <td>   34.226</td> <td>   -1.557</td> <td> 0.120</td> <td> -120.642</td> <td>   14.052</td>\n",
       "</tr>\n",
       "<tr>\n",
       "  <th>nhsu_nradlab_pht</th>    <td>    4.1816</td> <td>   46.023</td> <td>    0.091</td> <td> 0.928</td> <td>  -86.377</td> <td>   94.740</td>\n",
       "</tr>\n",
       "<tr>\n",
       "  <th>nhsu_nbiochem_pht</th>   <td>   34.3468</td> <td>   37.535</td> <td>    0.915</td> <td> 0.361</td> <td>  -39.511</td> <td>  108.204</td>\n",
       "</tr>\n",
       "<tr>\n",
       "  <th>nhsu_ncyto_pht</th>      <td>    2.9074</td> <td>   34.879</td> <td>    0.083</td> <td> 0.934</td> <td>  -65.723</td> <td>   71.538</td>\n",
       "</tr>\n",
       "<tr>\n",
       "  <th>nhsu_air_pollution</th>  <td>    0.0197</td> <td>    0.019</td> <td>    1.059</td> <td> 0.290</td> <td>   -0.017</td> <td>    0.056</td>\n",
       "</tr>\n",
       "<tr>\n",
       "  <th>nhsu_mdevindex</th>      <td>    0.6524</td> <td>    7.049</td> <td>    0.093</td> <td> 0.926</td> <td>  -13.219</td> <td>   14.523</td>\n",
       "</tr>\n",
       "<tr>\n",
       "  <th>mdevindex</th>           <td>   -3.1638</td> <td>    1.851</td> <td>   -1.709</td> <td> 0.088</td> <td>   -6.807</td> <td>    0.479</td>\n",
       "</tr>\n",
       "<tr>\n",
       "  <th>gdp</th>                 <td>-6.313e-05</td> <td> 2.03e-05</td> <td>   -3.107</td> <td> 0.002</td> <td>   -0.000</td> <td>-2.31e-05</td>\n",
       "</tr>\n",
       "<tr>\n",
       "  <th>mean_age</th>            <td>    3.7214</td> <td>    1.153</td> <td>    3.227</td> <td> 0.001</td> <td>    1.452</td> <td>    5.991</td>\n",
       "</tr>\n",
       "<tr>\n",
       "  <th>aging_level</th>         <td>    0.1279</td> <td>    0.875</td> <td>    0.146</td> <td> 0.884</td> <td>   -1.594</td> <td>    1.850</td>\n",
       "</tr>\n",
       "</table>\n",
       "<table class=\"simpletable\">\n",
       "<tr>\n",
       "  <th>Omnibus:</th>       <td> 4.379</td> <th>  Durbin-Watson:     </th> <td>   1.552</td>\n",
       "</tr>\n",
       "<tr>\n",
       "  <th>Prob(Omnibus):</th> <td> 0.112</td> <th>  Jarque-Bera (JB):  </th> <td>   4.129</td>\n",
       "</tr>\n",
       "<tr>\n",
       "  <th>Skew:</th>          <td> 0.256</td> <th>  Prob(JB):          </th> <td>   0.127</td>\n",
       "</tr>\n",
       "<tr>\n",
       "  <th>Kurtosis:</th>      <td> 3.142</td> <th>  Cond. No.          </th> <td>6.60e+06</td>\n",
       "</tr>\n",
       "</table><br/><br/>Notes:<br/>[1] Standard Errors assume that the covariance matrix of the errors is correctly specified.<br/>[2] The condition number is large, 6.6e+06. This might indicate that there are<br/>strong multicollinearity or other numerical problems."
      ],
      "text/latex": [
       "\\begin{center}\n",
       "\\begin{tabular}{lclc}\n",
       "\\toprule\n",
       "\\textbf{Dep. Variable:}        &   mtumors\\_pti   & \\textbf{  R-squared:         } &     0.538   \\\\\n",
       "\\textbf{Model:}                &       OLS        & \\textbf{  Adj. R-squared:    } &     0.474   \\\\\n",
       "\\textbf{Method:}               &  Least Squares   & \\textbf{  F-statistic:       } &     8.342   \\\\\n",
       "\\textbf{Date:}                 & Sun, 20 Apr 2025 & \\textbf{  Prob (F-statistic):} &  1.90e-31   \\\\\n",
       "\\textbf{Time:}                 &     18:42:26     & \\textbf{  Log-Likelihood:    } &   -1261.8   \\\\\n",
       "\\textbf{No. Observations:}     &         352      & \\textbf{  AIC:               } &     2612.   \\\\\n",
       "\\textbf{Df Residuals:}         &         308      & \\textbf{  BIC:               } &     2782.   \\\\\n",
       "\\textbf{Df Model:}             &          43      & \\textbf{                     } &             \\\\\n",
       "\\textbf{Covariance Type:}      &    nonrobust     & \\textbf{                     } &             \\\\\n",
       "\\bottomrule\n",
       "\\end{tabular}\n",
       "\\begin{tabular}{lcccccc}\n",
       "                               & \\textbf{coef} & \\textbf{std err} & \\textbf{t} & \\textbf{P$> |$t$|$} & \\textbf{[0.025} & \\textbf{0.975]}  \\\\\n",
       "\\midrule\n",
       "\\textbf{const}                 &    -158.6844  &       32.525     &    -4.879  &         0.000        &     -222.683    &      -94.686     \\\\\n",
       "\\textbf{ndiaglab\\_pht}         &      -0.4274  &        0.366     &    -1.167  &         0.244        &       -1.148    &        0.293     \\\\\n",
       "\\textbf{ndoctors\\_pht}         &       0.0412  &        0.035     &     1.175  &         0.241        &       -0.028    &        0.110     \\\\\n",
       "\\textbf{dvisits\\_pht}          &       0.0175  &        0.002     &     7.041  &         0.000        &        0.013    &        0.022     \\\\\n",
       "\\textbf{nсt\\_pht}              &     -11.8407  &        5.623     &    -2.106  &         0.036        &      -22.906    &       -0.776     \\\\\n",
       "\\textbf{nimun\\_pht}            &       2.5617  &        9.744     &     0.263  &         0.793        &      -16.611    &       21.735     \\\\\n",
       "\\textbf{nradlab\\_pht}          &      25.8133  &       12.902     &     2.001  &         0.046        &        0.427    &       51.200     \\\\\n",
       "\\textbf{nbiochem\\_pht}         &      -7.5300  &        8.565     &    -0.879  &         0.380        &      -24.384    &        9.324     \\\\\n",
       "\\textbf{ncyto\\_pht}            &       6.3901  &        8.757     &     0.730  &         0.466        &      -10.841    &       23.621     \\\\\n",
       "\\textbf{air\\_pollution}        &      -0.0033  &        0.005     &    -0.636  &         0.525        &       -0.014    &        0.007     \\\\\n",
       "\\textbf{reorg\\_ndiaglab\\_pht}  &      -0.1217  &        0.909     &    -0.134  &         0.894        &       -1.911    &        1.667     \\\\\n",
       "\\textbf{reorg\\_ndoctors\\_pht}  &      -0.0666  &        0.107     &    -0.624  &         0.533        &       -0.276    &        0.143     \\\\\n",
       "\\textbf{reorg\\_dvisits\\_pht}   &       0.0102  &        0.011     &     0.962  &         0.337        &       -0.011    &        0.031     \\\\\n",
       "\\textbf{reorg\\_nсt\\_pht}       &       0.1837  &       23.822     &     0.008  &         0.994        &      -46.691    &       47.058     \\\\\n",
       "\\textbf{reorg\\_nimun\\_pht}     &      20.3593  &       34.084     &     0.597  &         0.551        &      -46.707    &       87.426     \\\\\n",
       "\\textbf{reorg\\_nradlab\\_pht}   &      52.0975  &       46.926     &     1.110  &         0.268        &      -40.239    &      144.434     \\\\\n",
       "\\textbf{reorg\\_nbiochem\\_pht}  &     -40.5194  &       36.358     &    -1.114  &         0.266        &     -112.060    &       31.021     \\\\\n",
       "\\textbf{reorg\\_ncyto\\_pht}     &      20.2417  &       27.464     &     0.737  &         0.462        &      -33.800    &       74.283     \\\\\n",
       "\\textbf{reorg\\_air\\_pollution} &       0.0174  &        0.015     &     1.181  &         0.238        &       -0.012    &        0.046     \\\\\n",
       "\\textbf{reorg\\_mdevindex}      &      -3.3939  &        6.075     &    -0.559  &         0.577        &      -15.348    &        8.560     \\\\\n",
       "\\textbf{inner\\_ndiaglab\\_pht}  &      -0.8031  &        0.693     &    -1.160  &         0.247        &       -2.166    &        0.560     \\\\\n",
       "\\textbf{inner\\_ndoctors\\_pht}  &      -0.0168  &        0.057     &    -0.297  &         0.767        &       -0.128    &        0.094     \\\\\n",
       "\\textbf{inner\\_dvisits\\_pht}   &       0.0016  &        0.005     &     0.342  &         0.733        &       -0.008    &        0.011     \\\\\n",
       "\\textbf{inner\\_nсt\\_pht}       &       5.9994  &       10.516     &     0.570  &         0.569        &      -14.694    &       26.693     \\\\\n",
       "\\textbf{inner\\_nimun\\_pht}     &     -32.3594  &       17.517     &    -1.847  &         0.066        &      -66.828    &        2.109     \\\\\n",
       "\\textbf{inner\\_nradlab\\_pht}   &      28.3367  &       22.765     &     1.245  &         0.214        &      -16.459    &       73.132     \\\\\n",
       "\\textbf{inner\\_nbiochem\\_pht}  &      -1.5289  &       20.609     &    -0.074  &         0.941        &      -42.082    &       39.024     \\\\\n",
       "\\textbf{inner\\_ncyto\\_pht}     &      43.6783  &       16.909     &     2.583  &         0.010        &       10.406    &       76.950     \\\\\n",
       "\\textbf{inner\\_air\\_pollution} &       0.0201  &        0.009     &     2.289  &         0.023        &        0.003    &        0.037     \\\\\n",
       "\\textbf{inner\\_mdevindex}      &      -0.2750  &        3.751     &    -0.073  &         0.942        &       -7.656    &        7.106     \\\\\n",
       "\\textbf{nhsu\\_ndiaglab\\_pht}   &      -0.5416  &        2.601     &    -0.208  &         0.835        &       -5.660    &        4.577     \\\\\n",
       "\\textbf{nhsu\\_ndoctors\\_pht}   &       0.0312  &        0.136     &     0.229  &         0.819        &       -0.237    &        0.299     \\\\\n",
       "\\textbf{nhsu\\_dvisits\\_pht}    &      -0.0005  &        0.011     &    -0.048  &         0.962        &       -0.021    &        0.020     \\\\\n",
       "\\textbf{nhsu\\_nсt\\_pht}        &     -12.5225  &       18.276     &    -0.685  &         0.494        &      -48.485    &       23.440     \\\\\n",
       "\\textbf{nhsu\\_nimun\\_pht}      &     -53.2952  &       34.226     &    -1.557  &         0.120        &     -120.642    &       14.052     \\\\\n",
       "\\textbf{nhsu\\_nradlab\\_pht}    &       4.1816  &       46.023     &     0.091  &         0.928        &      -86.377    &       94.740     \\\\\n",
       "\\textbf{nhsu\\_nbiochem\\_pht}   &      34.3468  &       37.535     &     0.915  &         0.361        &      -39.511    &      108.204     \\\\\n",
       "\\textbf{nhsu\\_ncyto\\_pht}      &       2.9074  &       34.879     &     0.083  &         0.934        &      -65.723    &       71.538     \\\\\n",
       "\\textbf{nhsu\\_air\\_pollution}  &       0.0197  &        0.019     &     1.059  &         0.290        &       -0.017    &        0.056     \\\\\n",
       "\\textbf{nhsu\\_mdevindex}       &       0.6524  &        7.049     &     0.093  &         0.926        &      -13.219    &       14.523     \\\\\n",
       "\\textbf{mdevindex}             &      -3.1638  &        1.851     &    -1.709  &         0.088        &       -6.807    &        0.479     \\\\\n",
       "\\textbf{gdp}                   &   -6.313e-05  &     2.03e-05     &    -3.107  &         0.002        &       -0.000    &    -2.31e-05     \\\\\n",
       "\\textbf{mean\\_age}             &       3.7214  &        1.153     &     3.227  &         0.001        &        1.452    &        5.991     \\\\\n",
       "\\textbf{aging\\_level}          &       0.1279  &        0.875     &     0.146  &         0.884        &       -1.594    &        1.850     \\\\\n",
       "\\bottomrule\n",
       "\\end{tabular}\n",
       "\\begin{tabular}{lclc}\n",
       "\\textbf{Omnibus:}       &  4.379 & \\textbf{  Durbin-Watson:     } &    1.552  \\\\\n",
       "\\textbf{Prob(Omnibus):} &  0.112 & \\textbf{  Jarque-Bera (JB):  } &    4.129  \\\\\n",
       "\\textbf{Skew:}          &  0.256 & \\textbf{  Prob(JB):          } &    0.127  \\\\\n",
       "\\textbf{Kurtosis:}      &  3.142 & \\textbf{  Cond. No.          } & 6.60e+06  \\\\\n",
       "\\bottomrule\n",
       "\\end{tabular}\n",
       "%\\caption{OLS Regression Results}\n",
       "\\end{center}\n",
       "\n",
       "Notes: \\newline\n",
       " [1] Standard Errors assume that the covariance matrix of the errors is correctly specified. \\newline\n",
       " [2] The condition number is large, 6.6e+06. This might indicate that there are \\newline\n",
       " strong multicollinearity or other numerical problems."
      ],
      "text/plain": [
       "<class 'statsmodels.iolib.summary.Summary'>\n",
       "\"\"\"\n",
       "                            OLS Regression Results                            \n",
       "==============================================================================\n",
       "Dep. Variable:            mtumors_pti   R-squared:                       0.538\n",
       "Model:                            OLS   Adj. R-squared:                  0.474\n",
       "Method:                 Least Squares   F-statistic:                     8.342\n",
       "Date:                Sun, 20 Apr 2025   Prob (F-statistic):           1.90e-31\n",
       "Time:                        18:42:26   Log-Likelihood:                -1261.8\n",
       "No. Observations:                 352   AIC:                             2612.\n",
       "Df Residuals:                     308   BIC:                             2782.\n",
       "Df Model:                          43                                         \n",
       "Covariance Type:            nonrobust                                         \n",
       "=======================================================================================\n",
       "                          coef    std err          t      P>|t|      [0.025      0.975]\n",
       "---------------------------------------------------------------------------------------\n",
       "const                -158.6844     32.525     -4.879      0.000    -222.683     -94.686\n",
       "ndiaglab_pht           -0.4274      0.366     -1.167      0.244      -1.148       0.293\n",
       "ndoctors_pht            0.0412      0.035      1.175      0.241      -0.028       0.110\n",
       "dvisits_pht             0.0175      0.002      7.041      0.000       0.013       0.022\n",
       "nсt_pht               -11.8407      5.623     -2.106      0.036     -22.906      -0.776\n",
       "nimun_pht               2.5617      9.744      0.263      0.793     -16.611      21.735\n",
       "nradlab_pht            25.8133     12.902      2.001      0.046       0.427      51.200\n",
       "nbiochem_pht           -7.5300      8.565     -0.879      0.380     -24.384       9.324\n",
       "ncyto_pht               6.3901      8.757      0.730      0.466     -10.841      23.621\n",
       "air_pollution          -0.0033      0.005     -0.636      0.525      -0.014       0.007\n",
       "reorg_ndiaglab_pht     -0.1217      0.909     -0.134      0.894      -1.911       1.667\n",
       "reorg_ndoctors_pht     -0.0666      0.107     -0.624      0.533      -0.276       0.143\n",
       "reorg_dvisits_pht       0.0102      0.011      0.962      0.337      -0.011       0.031\n",
       "reorg_nсt_pht           0.1837     23.822      0.008      0.994     -46.691      47.058\n",
       "reorg_nimun_pht        20.3593     34.084      0.597      0.551     -46.707      87.426\n",
       "reorg_nradlab_pht      52.0975     46.926      1.110      0.268     -40.239     144.434\n",
       "reorg_nbiochem_pht    -40.5194     36.358     -1.114      0.266    -112.060      31.021\n",
       "reorg_ncyto_pht        20.2417     27.464      0.737      0.462     -33.800      74.283\n",
       "reorg_air_pollution     0.0174      0.015      1.181      0.238      -0.012       0.046\n",
       "reorg_mdevindex        -3.3939      6.075     -0.559      0.577     -15.348       8.560\n",
       "inner_ndiaglab_pht     -0.8031      0.693     -1.160      0.247      -2.166       0.560\n",
       "inner_ndoctors_pht     -0.0168      0.057     -0.297      0.767      -0.128       0.094\n",
       "inner_dvisits_pht       0.0016      0.005      0.342      0.733      -0.008       0.011\n",
       "inner_nсt_pht           5.9994     10.516      0.570      0.569     -14.694      26.693\n",
       "inner_nimun_pht       -32.3594     17.517     -1.847      0.066     -66.828       2.109\n",
       "inner_nradlab_pht      28.3367     22.765      1.245      0.214     -16.459      73.132\n",
       "inner_nbiochem_pht     -1.5289     20.609     -0.074      0.941     -42.082      39.024\n",
       "inner_ncyto_pht        43.6783     16.909      2.583      0.010      10.406      76.950\n",
       "inner_air_pollution     0.0201      0.009      2.289      0.023       0.003       0.037\n",
       "inner_mdevindex        -0.2750      3.751     -0.073      0.942      -7.656       7.106\n",
       "nhsu_ndiaglab_pht      -0.5416      2.601     -0.208      0.835      -5.660       4.577\n",
       "nhsu_ndoctors_pht       0.0312      0.136      0.229      0.819      -0.237       0.299\n",
       "nhsu_dvisits_pht       -0.0005      0.011     -0.048      0.962      -0.021       0.020\n",
       "nhsu_nсt_pht          -12.5225     18.276     -0.685      0.494     -48.485      23.440\n",
       "nhsu_nimun_pht        -53.2952     34.226     -1.557      0.120    -120.642      14.052\n",
       "nhsu_nradlab_pht        4.1816     46.023      0.091      0.928     -86.377      94.740\n",
       "nhsu_nbiochem_pht      34.3468     37.535      0.915      0.361     -39.511     108.204\n",
       "nhsu_ncyto_pht          2.9074     34.879      0.083      0.934     -65.723      71.538\n",
       "nhsu_air_pollution      0.0197      0.019      1.059      0.290      -0.017       0.056\n",
       "nhsu_mdevindex          0.6524      7.049      0.093      0.926     -13.219      14.523\n",
       "mdevindex              -3.1638      1.851     -1.709      0.088      -6.807       0.479\n",
       "gdp                 -6.313e-05   2.03e-05     -3.107      0.002      -0.000   -2.31e-05\n",
       "mean_age                3.7214      1.153      3.227      0.001       1.452       5.991\n",
       "aging_level             0.1279      0.875      0.146      0.884      -1.594       1.850\n",
       "==============================================================================\n",
       "Omnibus:                        4.379   Durbin-Watson:                   1.552\n",
       "Prob(Omnibus):                  0.112   Jarque-Bera (JB):                4.129\n",
       "Skew:                           0.256   Prob(JB):                        0.127\n",
       "Kurtosis:                       3.142   Cond. No.                     6.60e+06\n",
       "==============================================================================\n",
       "\n",
       "Notes:\n",
       "[1] Standard Errors assume that the covariance matrix of the errors is correctly specified.\n",
       "[2] The condition number is large, 6.6e+06. This might indicate that there are\n",
       "strong multicollinearity or other numerical problems.\n",
       "\"\"\""
      ]
     },
     "execution_count": 538,
     "metadata": {},
     "output_type": "execute_result"
    }
   ],
   "source": [
    "mtumors_model.summary()\n"
   ]
  },
  {
   "cell_type": "code",
   "execution_count": 539,
   "metadata": {},
   "outputs": [
    {
     "data": {
      "text/plain": [
       "(352, 44)"
      ]
     },
     "execution_count": 539,
     "metadata": {},
     "output_type": "execute_result"
    }
   ],
   "source": [
    "X.shape"
   ]
  },
  {
   "cell_type": "markdown",
   "metadata": {},
   "source": [
    "## Tests"
   ]
  },
  {
   "cell_type": "code",
   "execution_count": 540,
   "metadata": {},
   "outputs": [
    {
     "name": "stdout",
     "output_type": "stream",
     "text": [
      "         Variable       VIF\n",
      "0           const  1.000000\n",
      "1    ndiaglab_pht  1.458102\n",
      "2    ndoctors_pht  1.668725\n",
      "3     dvisits_pht  1.421707\n",
      "4         nсt_pht  1.208110\n",
      "5       nimun_pht  1.344333\n",
      "6     nradlab_pht  1.260496\n",
      "7    nbiochem_pht  1.173441\n",
      "8       ncyto_pht  1.155970\n",
      "9   air_pollution  1.348735\n",
      "10          reorg       NaN\n",
      "11          inner       NaN\n",
      "12           nhsu       NaN\n",
      "13      mdevindex  1.473147\n"
     ]
    }
   ],
   "source": [
    "import pandas as pd\n",
    "import statsmodels.api as sm\n",
    "\n",
    "X = df[variables]  \n",
    "X = sm.add_constant(X) \n",
    "\n",
    "vif_data = pd.DataFrame()\n",
    "vif_data[\"Variable\"] = X.columns\n",
    "vif_data[\"VIF\"] = [variance_inflation_factor(X.values, i) for i in range(X.shape[1])]\n",
    "\n",
    "print(vif_data)"
   ]
  },
  {
   "cell_type": "code",
   "execution_count": 541,
   "metadata": {},
   "outputs": [
    {
     "data": {
      "image/png": "[encoded data removed]",
      "text/plain": [
       "<Figure size 640x480 with 2 Axes>"
      ]
     },
     "metadata": {},
     "output_type": "display_data"
    }
   ],
   "source": [
    "correlation_matrix = df[variables].corr()[['nradlab_pht', 'ncyto_pht', 'nimun_pht']]\n",
    "sns.heatmap(correlation_matrix, annot=True, cmap='coolwarm')\n",
    "plt.show()\n",
    "# correlation_matrix\n"
   ]
  },
  {
   "cell_type": "code",
   "execution_count": 542,
   "metadata": {},
   "outputs": [
    {
     "name": "stdout",
     "output_type": "stream",
     "text": [
      "Durbin-Watson statistic: 1.5519439893205864\n"
     ]
    }
   ],
   "source": [
    "from statsmodels.stats.stattools import durbin_watson\n",
    "\n",
    "# residuals from your model\n",
    "residuals = mtumors_model.resid  \n",
    "dw_stat = durbin_watson(residuals)\n",
    "print(f'Durbin-Watson statistic: {dw_stat}')"
   ]
  },
  {
   "cell_type": "code",
   "execution_count": 543,
   "metadata": {},
   "outputs": [
    {
     "data": {
      "text/html": [
       "<div>\n",
       "<style scoped>\n",
       "    .dataframe tbody tr th:only-of-type {\n",
       "        vertical-align: middle;\n",
       "    }\n",
       "\n",
       "    .dataframe tbody tr th {\n",
       "        vertical-align: top;\n",
       "    }\n",
       "\n",
       "    .dataframe thead th {\n",
       "        text-align: right;\n",
       "    }\n",
       "</style>\n",
       "<table border=\"1\" class=\"dataframe\">\n",
       "  <thead>\n",
       "    <tr style=\"text-align: right;\">\n",
       "      <th></th>\n",
       "      <th>lb_stat</th>\n",
       "      <th>lb_pvalue</th>\n",
       "    </tr>\n",
       "  </thead>\n",
       "  <tbody>\n",
       "    <tr>\n",
       "      <th>10</th>\n",
       "      <td>41.284646</td>\n",
       "      <td>0.00001</td>\n",
       "    </tr>\n",
       "  </tbody>\n",
       "</table>\n",
       "</div>"
      ],
      "text/plain": [
       "      lb_stat  lb_pvalue\n",
       "10  41.284646    0.00001"
      ]
     },
     "execution_count": 543,
     "metadata": {},
     "output_type": "execute_result"
    }
   ],
   "source": [
    "from statsmodels.stats.diagnostic import acorr_ljungbox\n",
    "\n",
    "# For raw time series or residuals\n",
    "ljung_box = acorr_ljungbox(mtumors_model.resid, lags=[10], return_df=True)\n",
    "ljung_box"
   ]
  },
  {
   "cell_type": "markdown",
   "metadata": {},
   "source": [
    "---\n",
    "\n",
    "# GDP"
   ]
  },
  {
   "cell_type": "markdown",
   "metadata": {},
   "source": []
  }
 ],
 "metadata": {
  "kernelspec": {
   "display_name": ".env",
   "language": "python",
   "name": "python3"
  },
  "language_info": {
   "codemirror_mode": {
    "name": "ipython",
    "version": 3
   },
   "file_extension": ".py",
   "mimetype": "text/x-python",
   "name": "python",
   "nbconvert_exporter": "python",
   "pygments_lexer": "ipython3",
   "version": "3.12.9"
  }
 },
 "nbformat": 4,
 "nbformat_minor": 2
}
