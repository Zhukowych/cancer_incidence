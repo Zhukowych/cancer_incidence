{
 "cells": [
  {
   "cell_type": "code",
   "execution_count": 484,
   "metadata": {},
   "outputs": [],
   "source": [
    "import ipywidgets as widgets\n",
    "from IPython.display import display\n",
    "\n",
    "import pandas as pd\n",
    "import numpy as np\n",
    "import matplotlib.pyplot as plt\n",
    "import seaborn as sns\n",
    "import statsmodels.formula.api as smf\n",
    "import statsmodels.api as sm\n",
    "from statsmodels.stats.stattools import durbin_watson\n",
    "from statsmodels.stats.outliers_influence import variance_inflation_factor\n",
    "import warnings\n",
    "\n",
    "warnings.filterwarnings('ignore')"
   ]
  },
  {
   "cell_type": "markdown",
   "metadata": {},
   "source": [
    "# Modeling Incidence"
   ]
  },
  {
   "cell_type": "markdown",
   "metadata": {},
   "source": [
    "In this notebook we present modeling of two two metrics of cancer incidence number of tumors located **insitu** per 1000 of totally diagnozed tumors (insitu means that abnormal cells have been found in their place of origin but have not spread to nearby tissues). And number of diagnozed **multiple tumors** per 1000 cases\n",
    "\n",
    "The following model must reflect ongoing reforms in Ukrainian medical system as well as COVID19 outbreak and full-scale invasion in 2022"
   ]
  },
  {
   "cell_type": "code",
   "execution_count": 485,
   "metadata": {},
   "outputs": [],
   "source": [
    "st_df = pd.read_csv('./final_dataset/stage_incidence_features.csv')"
   ]
  },
  {
   "cell_type": "code",
   "execution_count": 486,
   "metadata": {},
   "outputs": [
    {
     "name": "stdout",
     "output_type": "stream",
     "text": [
      "<class 'pandas.core.frame.DataFrame'>\n",
      "RangeIndex: 312 entries, 0 to 311\n",
      "Data columns (total 45 columns):\n",
      " #   Column                    Non-Null Count  Dtype  \n",
      "---  ------                    --------------  -----  \n",
      " 0   year                      312 non-null    float64\n",
      " 1   region                    312 non-null    object \n",
      " 2   mtumors                   312 non-null    float64\n",
      " 3   syncmtumors               312 non-null    float64\n",
      " 4   insitu                    312 non-null    float64\n",
      " 5   ncervix                   312 non-null    float64\n",
      " 6   nhospotal_pht             312 non-null    float64\n",
      " 7   nbeds_pht                 312 non-null    float64\n",
      " 8   ybeds_pht                 312 non-null    float64\n",
      " 9   nill_pht                  312 non-null    float64\n",
      " 10  nvillage_ill_pht          312 non-null    float64\n",
      " 11  bed_days_pht              312 non-null    float64\n",
      " 12  dvisits_pht               312 non-null    float64\n",
      " 13  hvisits_pht               312 non-null    float64\n",
      " 14  ndoctors_pht              312 non-null    float64\n",
      " 15  nnursing_pht              312 non-null    float64\n",
      " 16  nx_ray_pht                312 non-null    float64\n",
      " 17  nflurography_pht          312 non-null    float64\n",
      " 18  nradiology_pht            312 non-null    float64\n",
      " 19  nradlab_pht               312 non-null    float64\n",
      " 20  nсt_pht                   312 non-null    float64\n",
      " 21  ncardiogram_pht           312 non-null    float64\n",
      " 22  ndiaglab_pht              312 non-null    float64\n",
      " 23  nbacter_pht               312 non-null    float64\n",
      " 24  nbiochem_pht              312 non-null    float64\n",
      " 25  ncyto_pht                 312 non-null    float64\n",
      " 26  nimun_pht                 312 non-null    float64\n",
      " 27  nphysic_pht               312 non-null    float64\n",
      " 28  nendoscop_pht             312 non-null    float64\n",
      " 29  nultrasound_pht           312 non-null    float64\n",
      " 30  ndialysis_pht             312 non-null    float64\n",
      " 31  gdp                       312 non-null    float64\n",
      " 32  air_pollution             312 non-null    float64\n",
      " 33  polluted_dumps            312 non-null    float64\n",
      " 34  not_cleaned_dumps         312 non-null    float64\n",
      " 35  dumps_not_cleaned_enough  312 non-null    float64\n",
      " 36  num_clearing_plants       312 non-null    float64\n",
      " 37  cpi                       312 non-null    float64\n",
      " 38  population                312 non-null    float64\n",
      " 39  tincidence_pht            312 non-null    float64\n",
      " 40  mtumors_pht               312 non-null    float64\n",
      " 41  syncmtumors_pht           312 non-null    float64\n",
      " 42  insitu_pht                312 non-null    float64\n",
      " 43  insitu_pti                312 non-null    float64\n",
      " 44  mtumors_pti               312 non-null    float64\n",
      "dtypes: float64(44), object(1)\n",
      "memory usage: 109.8+ KB\n"
     ]
    }
   ],
   "source": [
    "st_df.info()"
   ]
  },
  {
   "cell_type": "code",
   "execution_count": 487,
   "metadata": {},
   "outputs": [],
   "source": [
    "st_df = st_df.drop(columns=['tincidence_pht', 'mtumors', 'syncmtumors', 'insitu', 'ncervix', 'nvillage_ill_pht',\n",
    "                            'hvisits_pht', 'ndialysis_pht', 'ndialysis_pht', 'nbacter_pht', 'polluted_dumps', \n",
    "                            'not_cleaned_dumps', 'dumps_not_cleaned_enough', 'num_clearing_plants', 'nphysic_pht'])"
   ]
  },
  {
   "cell_type": "code",
   "execution_count": 488,
   "metadata": {},
   "outputs": [
    {
     "data": {
      "text/plain": [
       "Index(['year', 'region', 'nhospotal_pht', 'nbeds_pht', 'ybeds_pht', 'nill_pht',\n",
       "       'bed_days_pht', 'dvisits_pht', 'ndoctors_pht', 'nnursing_pht',\n",
       "       'nx_ray_pht', 'nflurography_pht', 'nradiology_pht', 'nradlab_pht',\n",
       "       'nсt_pht', 'ncardiogram_pht', 'ndiaglab_pht', 'nbiochem_pht',\n",
       "       'ncyto_pht', 'nimun_pht', 'nendoscop_pht', 'nultrasound_pht', 'gdp',\n",
       "       'air_pollution', 'cpi', 'population', 'mtumors_pht', 'syncmtumors_pht',\n",
       "       'insitu_pht', 'insitu_pti', 'mtumors_pti'],\n",
       "      dtype='object')"
      ]
     },
     "execution_count": 488,
     "metadata": {},
     "output_type": "execute_result"
    }
   ],
   "source": [
    "st_df.columns"
   ]
  },
  {
   "cell_type": "markdown",
   "metadata": {},
   "source": [
    "## Events that need to be accounted"
   ]
  },
  {
   "cell_type": "markdown",
   "metadata": {},
   "source": [
    "1. **2012** - start of reorganization of medical system\n",
    "2. **2014** - moratorium on reargonization to same existing medical system at the start of the war\n",
    "3. **2015** - withdrawal of the moratorium \n",
    "4. **2017** - **2018** - creation of medical districts\n",
    "5. **2018** - creation of National Health Service of Ukraine\n",
    "6. **2020** - out break\n",
    "7. **2022** - start of full-scale invasion\n",
    "\n",
    "To model these events variables **reorg**, **morat**, **mdistrict**, **nhsu**, **cov**, **inv** will be added. \n",
    "Also interaction varables must be added"
   ]
  },
  {
   "cell_type": "code",
   "execution_count": 489,
   "metadata": {},
   "outputs": [],
   "source": [
    "st_df['reorg'] = ((st_df.year >= 2012) & (st_df.year < 2014)).astype(int)\n",
    "# st_df['morat'] = ((st_df.year >= 2014) & (st_df.year < 2015)).astype(int)\n",
    "st_df['inner'] = ((st_df.year >= 2014) & (st_df.year < 2018)).astype(int)\n",
    "st_df['nhsu'] = ((st_df.year >= 2018) & (st_df.year < 2019)).astype(int)\n",
    "st_df['cov'] = ((st_df.year >= 2020) & (st_df.year < 2022)).astype(int)\n",
    "st_df['inv'] = (st_df.year >= 2022).astype(int)"
   ]
  },
  {
   "cell_type": "code",
   "execution_count": 490,
   "metadata": {},
   "outputs": [],
   "source": [
    "\n",
    "equipment_variables = [\n",
    "    'nhospotal_pht', 'nbeds_pht', 'nx_ray_pht', 'nflurography_pht',\n",
    "    'nradiology_pht', 'nradlab_pht', 'nсt_pht', 'ncardiogram_pht', 'ndiaglab_pht',\n",
    "    'nbiochem_pht', 'ncyto_pht', 'nimun_pht', 'nendoscop_pht', 'nultrasound_pht',\n",
    "]\n",
    "\n",
    "personnel_variables = ['ndoctors_pht', 'nnursing_pht']\n",
    "\n",
    "illness_variables = ['nill_pht']\n",
    "\n",
    "environmental_variables = [\n",
    "    'air_pollution'\n",
    "]\n",
    "\n",
    "dummies = ['reorg', 'inner', 'nhsu', 'cov']\n",
    "\n",
    "all_explanatory_variables = equipment_variables + personnel_variables + illness_variables + environmental_variables\n",
    "\n",
    "all_dependent_variables = ['mtumors_pti']"
   ]
  },
  {
   "cell_type": "markdown",
   "metadata": {},
   "source": [
    "Also interaction terms must be added\n",
    "\n",
    "1. Equipment variables must have interaction with **reorg**, **mdistrict**, **nhsu**\n",
    "2. Personnel varaibles must have interaction with **reorg**, **mdistrict**, **nhsu**, **cov**, **inv**\n",
    "3. Illness variables must have interaction with **reorg**, **mdistrict**, **nhsu**, **cov**, **inv** \n"
   ]
  },
  {
   "cell_type": "code",
   "execution_count": 491,
   "metadata": {},
   "outputs": [],
   "source": [
    "def add_interactions(df, interactions: list[str], x_names: list[str]):\n",
    "    interaction_names = []\n",
    "    for interaction in interactions:\n",
    "        for x_name in x_names:\n",
    "            interaction_name = f\"{interaction}_{x_name}\"\n",
    "            df[interaction_name] = df[interaction] * df[x_name]\n",
    "            interaction_names.append(interaction_name)\n",
    "    return df, interaction_names \n",
    "\n",
    "# st_df, _ = add_interactions(st_df, ['reorg', \"morat\", 'inner', 'mdistrict', 'nhsu', 'cov'], equipment_variables)\n",
    "# st_df, _ = add_interactions(st_df, ['reorg', \"morat\", 'inner', 'mdistrict', 'nhsu', 'cov'], personnel_variables)\n",
    "# st_df, _ = add_interactions(st_df, ['reorg', \"morat\", 'inner', 'mdistrict', 'nhsu', 'cov'], illness_variables)"
   ]
  },
  {
   "cell_type": "markdown",
   "metadata": {},
   "source": [
    "## Trend account"
   ]
  },
  {
   "cell_type": "code",
   "execution_count": 492,
   "metadata": {},
   "outputs": [],
   "source": [
    "st_df['t'] = st_df['year'] - 2008"
   ]
  },
  {
   "cell_type": "code",
   "execution_count": 493,
   "metadata": {},
   "outputs": [],
   "source": [
    "\n",
    "def coupled_detrend(df: pd.DataFrame, x_names: list[str]):\n",
    "    df = df.copy()\n",
    "    years = sorted(df.year.unique())\n",
    "    for x_name in x_names:\n",
    "        for year in years:\n",
    "            x_at_year = df[df.year == year][x_name]\n",
    "            df.loc[df.year == year, x_name] = x_at_year - x_at_year.mean()\n",
    "    \n",
    "    return df\n"
   ]
  },
  {
   "cell_type": "markdown",
   "metadata": {},
   "source": [
    "## Quick fixes"
   ]
  },
  {
   "cell_type": "code",
   "execution_count": 494,
   "metadata": {},
   "outputs": [],
   "source": [
    "st_df = st_df[st_df.year <= 2021]\n",
    "st_df = st_df[~st_df.region.isin(['Донецька', 'Луганська'])]"
   ]
  },
  {
   "cell_type": "markdown",
   "metadata": {},
   "source": [
    "## Model selection"
   ]
  },
  {
   "cell_type": "code",
   "execution_count": 495,
   "metadata": {},
   "outputs": [],
   "source": [
    "def select_best_model_for(df: pd.DataFrame, target: str, ommit: list[str]) -> tuple[sm.OLS, list[str]]:\n",
    "    predictors = df.drop(columns=ommit + [target], errors=\"ignore\")\n",
    "\n",
    "    predictors = predictors.select_dtypes(include=[\"number\"])\n",
    "    \n",
    "    X = predictors.copy()\n",
    "    y = df[target]\n",
    "    \n",
    "    X = sm.add_constant(X)\n",
    "    \n",
    "    best_model = sm.OLS(y, X).fit()\n",
    "\n",
    "    best_aic = np.inf\n",
    "\n",
    "    to_drop = None\n",
    "\n",
    "    while len(X.columns) > 0:\n",
    "        aic_not_changed = True\n",
    "            \n",
    "        for col in X.columns:\n",
    "            temp_X = X.drop(col, axis = 1)\n",
    "            temp_model = sm.OLS(y, temp_X).fit()\n",
    "            if temp_model.aic < best_aic:\n",
    "                best_aic = temp_model.aic\n",
    "                best_model = temp_model\n",
    "                to_drop = col\n",
    "                aic_not_changed = False\n",
    "\n",
    "        if aic_not_changed:\n",
    "            break\n",
    "\n",
    "        X = X.drop(to_drop, axis = 1)\n",
    "    \n",
    "    return best_model\n",
    "\n"
   ]
  },
  {
   "cell_type": "code",
   "execution_count": 496,
   "metadata": {},
   "outputs": [],
   "source": [
    "ommit = [\"age_group\", \"year\", \"region\", \"category\",  'mtumors_pht', 'syncmtumors_pht',\n",
    "         'insitu_pht', 'insitu_pti', 'mtumors_pti', 'ncervix', 'mtumors', 'syncmtumors', 'insitu', \n",
    "         'gdp', 'mtumors_pti', 'tincidence', 'cpi', 'ybeds_pht', 'population']"
   ]
  },
  {
   "cell_type": "code",
   "execution_count": 497,
   "metadata": {},
   "outputs": [],
   "source": [
    "def get_interpretation_table(params, explanatory_names):\n",
    "\n",
    "    interpretation_table = {dummy: [] for dummy in dummies}\n",
    "    interpretation_table.update({\"base\": None})\n",
    "\n",
    "    interpretation_table[\"base\"] = [params.get(x_name, 0) for x_name in explanatory_names]\n",
    "\n",
    "    for dummy in dummies:\n",
    "        for x_name in explanatory_names:\n",
    "            total_impact = params.get(x_name, 0) + params.get(f\"{dummy}_{x_name}\", 0)\n",
    "            interpretation_table[dummy].append(total_impact)\n",
    "        \n",
    "    return pd.DataFrame(interpretation_table, index=explanatory_names)"
   ]
  },
  {
   "cell_type": "markdown",
   "metadata": {},
   "source": [
    "### Simple model"
   ]
  },
  {
   "cell_type": "code",
   "execution_count": 512,
   "metadata": {},
   "outputs": [],
   "source": [
    "explanatory_variables = ['ndiaglab_pht', 'ndoctors_pht', 'dvisits_pht',\n",
    "                        'nсt_pht', 'nimun_pht', 'nradlab_pht', \n",
    "                        'nbiochem_pht', 'ncyto_pht',\n",
    "                        'air_pollution']\n",
    "\n",
    "dummies = ['reorg','inner', 'nhsu']\n",
    "\n",
    "variables = explanatory_variables + dummies\n",
    "df = st_df[variables + all_dependent_variables + ['t', 'year', 'region']]\n",
    "df['dvisits_pht'] /= df['ndoctors_pht']\n",
    "\n",
    "variables += ['mdevindex']\n",
    "\n",
    "df['mdevindex'] = st_df[['nx_ray_pht', 'nflurography_pht', 'nultrasound_pht']].min(axis=1)\n",
    "\n",
    "df, interaction_names = add_interactions(df, dummies, explanatory_variables + ['mdevindex'])\n",
    "df = coupled_detrend(df, variables + all_dependent_variables)\n"
   ]
  },
  {
   "cell_type": "markdown",
   "metadata": {},
   "source": [
    "## Multiple regression"
   ]
  },
  {
   "cell_type": "code",
   "execution_count": 513,
   "metadata": {},
   "outputs": [
    {
     "name": "stdout",
     "output_type": "stream",
     "text": [
      "0.26479188966824685\n"
     ]
    },
    {
     "data": {
      "text/html": [
       "<div>\n",
       "<style scoped>\n",
       "    .dataframe tbody tr th:only-of-type {\n",
       "        vertical-align: middle;\n",
       "    }\n",
       "\n",
       "    .dataframe tbody tr th {\n",
       "        vertical-align: top;\n",
       "    }\n",
       "\n",
       "    .dataframe thead th {\n",
       "        text-align: right;\n",
       "    }\n",
       "</style>\n",
       "<table border=\"1\" class=\"dataframe\">\n",
       "  <thead>\n",
       "    <tr style=\"text-align: right;\">\n",
       "      <th></th>\n",
       "      <th>reorg</th>\n",
       "      <th>inner</th>\n",
       "      <th>nhsu</th>\n",
       "      <th>base</th>\n",
       "    </tr>\n",
       "  </thead>\n",
       "  <tbody>\n",
       "    <tr>\n",
       "      <th>ndiaglab_pht</th>\n",
       "      <td>-1.843131</td>\n",
       "      <td>-2.790599</td>\n",
       "      <td>-2.467293</td>\n",
       "      <td>-1.091366</td>\n",
       "    </tr>\n",
       "    <tr>\n",
       "      <th>ndoctors_pht</th>\n",
       "      <td>0.024071</td>\n",
       "      <td>0.185535</td>\n",
       "      <td>0.257088</td>\n",
       "      <td>0.086117</td>\n",
       "    </tr>\n",
       "    <tr>\n",
       "      <th>dvisits_pht</th>\n",
       "      <td>0.037403</td>\n",
       "      <td>0.018648</td>\n",
       "      <td>0.013974</td>\n",
       "      <td>0.021357</td>\n",
       "    </tr>\n",
       "    <tr>\n",
       "      <th>nсt_pht</th>\n",
       "      <td>-12.714592</td>\n",
       "      <td>-12.363221</td>\n",
       "      <td>-27.176723</td>\n",
       "      <td>-1.912866</td>\n",
       "    </tr>\n",
       "    <tr>\n",
       "      <th>nimun_pht</th>\n",
       "      <td>8.936006</td>\n",
       "      <td>-26.834252</td>\n",
       "      <td>-39.551092</td>\n",
       "      <td>4.179101</td>\n",
       "    </tr>\n",
       "    <tr>\n",
       "      <th>nradlab_pht</th>\n",
       "      <td>117.549558</td>\n",
       "      <td>80.002736</td>\n",
       "      <td>35.663048</td>\n",
       "      <td>49.988002</td>\n",
       "    </tr>\n",
       "    <tr>\n",
       "      <th>nbiochem_pht</th>\n",
       "      <td>-54.929574</td>\n",
       "      <td>10.035692</td>\n",
       "      <td>39.627144</td>\n",
       "      <td>8.258671</td>\n",
       "    </tr>\n",
       "    <tr>\n",
       "      <th>ncyto_pht</th>\n",
       "      <td>-1.635064</td>\n",
       "      <td>19.909858</td>\n",
       "      <td>-20.510979</td>\n",
       "      <td>-17.869440</td>\n",
       "    </tr>\n",
       "    <tr>\n",
       "      <th>air_pollution</th>\n",
       "      <td>0.014000</td>\n",
       "      <td>0.019455</td>\n",
       "      <td>0.013624</td>\n",
       "      <td>-0.010899</td>\n",
       "    </tr>\n",
       "    <tr>\n",
       "      <th>mdevindex</th>\n",
       "      <td>-1.432678</td>\n",
       "      <td>-1.687806</td>\n",
       "      <td>-1.610748</td>\n",
       "      <td>2.343953</td>\n",
       "    </tr>\n",
       "  </tbody>\n",
       "</table>\n",
       "</div>"
      ],
      "text/plain": [
       "                    reorg      inner       nhsu       base\n",
       "ndiaglab_pht    -1.843131  -2.790599  -2.467293  -1.091366\n",
       "ndoctors_pht     0.024071   0.185535   0.257088   0.086117\n",
       "dvisits_pht      0.037403   0.018648   0.013974   0.021357\n",
       "nсt_pht        -12.714592 -12.363221 -27.176723  -1.912866\n",
       "nimun_pht        8.936006 -26.834252 -39.551092   4.179101\n",
       "nradlab_pht    117.549558  80.002736  35.663048  49.988002\n",
       "nbiochem_pht   -54.929574  10.035692  39.627144   8.258671\n",
       "ncyto_pht       -1.635064  19.909858 -20.510979 -17.869440\n",
       "air_pollution    0.014000   0.019455   0.013624  -0.010899\n",
       "mdevindex       -1.432678  -1.687806  -1.610748   2.343953"
      ]
     },
     "execution_count": 513,
     "metadata": {},
     "output_type": "execute_result"
    }
   ],
   "source": [
    "y = df['mtumors_pti']\n",
    "X = sm.add_constant(df[explanatory_variables + interaction_names + [\"mdevindex\"]])\n",
    "\n",
    "mtumors_model = sm.OLS(y, X).fit()\n",
    "\n",
    "print(mtumors_model.rsquared_adj)\n",
    "get_interpretation_table(mtumors_model.params, explanatory_variables + ['mdevindex'])"
   ]
  },
  {
   "cell_type": "code",
   "execution_count": 500,
   "metadata": {},
   "outputs": [
    {
     "name": "stdout",
     "output_type": "stream",
     "text": [
      "                            OLS Regression Results                            \n",
      "==============================================================================\n",
      "Dep. Variable:            mtumors_pti   R-squared:                       0.368\n",
      "Model:                            OLS   Adj. R-squared:                  0.265\n",
      "Method:                 Least Squares   F-statistic:                     3.566\n",
      "Date:                Thu, 17 Apr 2025   Prob (F-statistic):           5.02e-10\n",
      "Time:                        01:50:18   Log-Likelihood:                -1063.9\n",
      "No. Observations:                 286   AIC:                             2210.\n",
      "Df Residuals:                     245   BIC:                             2360.\n",
      "Df Model:                          40                                         \n",
      "Covariance Type:            nonrobust                                         \n",
      "=======================================================================================\n",
      "                          coef    std err          t      P>|t|      [0.025      0.975]\n",
      "---------------------------------------------------------------------------------------\n",
      "const                  -0.0005      0.868     -0.001      1.000      -1.711       1.710\n",
      "ndiaglab_pht           -1.0914      0.436     -2.506      0.013      -1.949      -0.233\n",
      "ndoctors_pht            0.0861      0.045      1.927      0.055      -0.002       0.174\n",
      "dvisits_pht             0.0214      0.003      6.166      0.000       0.015       0.028\n",
      "nсt_pht                -1.9129      7.871     -0.243      0.808     -17.416      13.590\n",
      "nimun_pht               4.1791     13.262      0.315      0.753     -21.943      30.301\n",
      "nradlab_pht            49.9880     17.831      2.803      0.005      14.867      85.109\n",
      "nbiochem_pht            8.2587     10.770      0.767      0.444     -12.955      29.472\n",
      "ncyto_pht             -17.8694     11.225     -1.592      0.113     -39.978       4.239\n",
      "air_pollution          -0.0109      0.007     -1.611      0.109      -0.024       0.002\n",
      "reorg_ndiaglab_pht     -0.7518      1.060     -0.709      0.479      -2.840       1.337\n",
      "reorg_ndoctors_pht     -0.0620      0.125     -0.497      0.620      -0.308       0.184\n",
      "reorg_dvisits_pht       0.0160      0.012      1.291      0.198      -0.008       0.041\n",
      "reorg_nсt_pht         -10.8017     28.023     -0.385      0.700     -65.999      44.396\n",
      "reorg_nimun_pht         4.7569     39.988      0.119      0.905     -74.006      83.520\n",
      "reorg_nradlab_pht      67.5616     55.099      1.226      0.221     -40.967     176.091\n",
      "reorg_nbiochem_pht    -63.1882     42.168     -1.498      0.135    -146.247      19.871\n",
      "reorg_ncyto_pht        16.2344     32.240      0.504      0.615     -47.268      79.737\n",
      "reorg_air_pollution     0.0249      0.017      1.433      0.153      -0.009       0.059\n",
      "reorg_mdevindex        -3.7766      7.107     -0.531      0.596     -17.775      10.222\n",
      "inner_ndiaglab_pht     -1.6992      0.803     -2.116      0.035      -3.281      -0.118\n",
      "inner_ndoctors_pht      0.0994      0.068      1.465      0.144      -0.034       0.233\n",
      "inner_dvisits_pht      -0.0027      0.006     -0.463      0.644      -0.014       0.009\n",
      "inner_nсt_pht         -10.4504     12.929     -0.808      0.420     -35.916      15.015\n",
      "inner_nimun_pht       -31.0134     21.513     -1.442      0.151     -73.387      11.360\n",
      "inner_nradlab_pht      30.0147     28.049      1.070      0.286     -25.234      85.263\n",
      "inner_nbiochem_pht      1.7770     24.247      0.073      0.942     -45.981      49.535\n",
      "inner_ncyto_pht        37.7793     20.319      1.859      0.064      -2.243      77.801\n",
      "inner_air_pollution     0.0304      0.011      2.842      0.005       0.009       0.051\n",
      "inner_mdevindex        -4.0318      4.489     -0.898      0.370     -12.874       4.811\n",
      "nhsu_ndiaglab_pht      -1.3759      3.001     -0.458      0.647      -7.288       4.536\n",
      "nhsu_ndoctors_pht       0.1710      0.158      1.081      0.281      -0.140       0.482\n",
      "nhsu_dvisits_pht       -0.0074      0.012     -0.593      0.554      -0.032       0.017\n",
      "nhsu_nсt_pht          -25.2639     21.607     -1.169      0.243     -67.823      17.295\n",
      "nhsu_nimun_pht        -43.7302     40.237     -1.087      0.278    -122.985      35.525\n",
      "nhsu_nradlab_pht      -14.3250     54.138     -0.265      0.792    -120.959      92.309\n",
      "nhsu_nbiochem_pht      31.3685     43.670      0.718      0.473     -54.648     117.385\n",
      "nhsu_ncyto_pht         -2.6415     40.737     -0.065      0.948     -82.881      77.597\n",
      "nhsu_air_pollution      0.0245      0.022      1.128      0.261      -0.018       0.067\n",
      "nhsu_mdevindex         -3.9547      8.237     -0.480      0.632     -20.180      12.270\n",
      "mdevindex               2.3440      2.405      0.974      0.331      -2.394       7.082\n",
      "==============================================================================\n",
      "Omnibus:                        5.160   Durbin-Watson:                   2.262\n",
      "Prob(Omnibus):                  0.076   Jarque-Bera (JB):                5.036\n",
      "Skew:                           0.324   Prob(JB):                       0.0806\n",
      "Kurtosis:                       3.048   Cond. No.                     1.03e+05\n",
      "==============================================================================\n",
      "\n",
      "Notes:\n",
      "[1] Standard Errors assume that the covariance matrix of the errors is correctly specified.\n",
      "[2] The condition number is large, 1.03e+05. This might indicate that there are\n",
      "strong multicollinearity or other numerical problems.\n"
     ]
    }
   ],
   "source": [
    "print(mtumors_model.summary())"
   ]
  },
  {
   "cell_type": "markdown",
   "metadata": {},
   "source": [
    "## Tests"
   ]
  },
  {
   "cell_type": "code",
   "execution_count": 501,
   "metadata": {},
   "outputs": [
    {
     "name": "stdout",
     "output_type": "stream",
     "text": [
      "         Variable       VIF\n",
      "0           const  1.000000\n",
      "1    ndiaglab_pht  1.483257\n",
      "2    ndoctors_pht  1.667054\n",
      "3     dvisits_pht  1.465658\n",
      "4         nсt_pht  1.192950\n",
      "5       nimun_pht  1.301153\n",
      "6     nradlab_pht  1.263542\n",
      "7    nbiochem_pht  1.170260\n",
      "8       ncyto_pht  1.137471\n",
      "9   air_pollution  1.365150\n",
      "10          reorg       NaN\n",
      "11          inner       NaN\n",
      "12           nhsu       NaN\n",
      "13      mdevindex  1.423069\n"
     ]
    }
   ],
   "source": [
    "import pandas as pd\n",
    "import statsmodels.api as sm\n",
    "\n",
    "X = df[variables]  \n",
    "X = sm.add_constant(X) \n",
    "\n",
    "vif_data = pd.DataFrame()\n",
    "vif_data[\"Variable\"] = X.columns\n",
    "vif_data[\"VIF\"] = [variance_inflation_factor(X.values, i) for i in range(X.shape[1])]\n",
    "\n",
    "print(vif_data)"
   ]
  },
  {
   "cell_type": "code",
   "execution_count": 514,
   "metadata": {},
   "outputs": [
    {
     "data": {
      "text/html": [
       "<div>\n",
       "<style scoped>\n",
       "    .dataframe tbody tr th:only-of-type {\n",
       "        vertical-align: middle;\n",
       "    }\n",
       "\n",
       "    .dataframe tbody tr th {\n",
       "        vertical-align: top;\n",
       "    }\n",
       "\n",
       "    .dataframe thead th {\n",
       "        text-align: right;\n",
       "    }\n",
       "</style>\n",
       "<table border=\"1\" class=\"dataframe\">\n",
       "  <thead>\n",
       "    <tr style=\"text-align: right;\">\n",
       "      <th></th>\n",
       "      <th>nradlab_pht</th>\n",
       "      <th>ncyto_pht</th>\n",
       "      <th>nimun_pht</th>\n",
       "    </tr>\n",
       "  </thead>\n",
       "  <tbody>\n",
       "    <tr>\n",
       "      <th>ndiaglab_pht</th>\n",
       "      <td>-0.076444</td>\n",
       "      <td>-0.034548</td>\n",
       "      <td>-0.213720</td>\n",
       "    </tr>\n",
       "    <tr>\n",
       "      <th>ndoctors_pht</th>\n",
       "      <td>-0.272179</td>\n",
       "      <td>-0.061878</td>\n",
       "      <td>-0.093671</td>\n",
       "    </tr>\n",
       "    <tr>\n",
       "      <th>dvisits_pht</th>\n",
       "      <td>-0.379083</td>\n",
       "      <td>-0.003426</td>\n",
       "      <td>-0.036281</td>\n",
       "    </tr>\n",
       "    <tr>\n",
       "      <th>nсt_pht</th>\n",
       "      <td>-0.122205</td>\n",
       "      <td>-0.224140</td>\n",
       "      <td>-0.257581</td>\n",
       "    </tr>\n",
       "    <tr>\n",
       "      <th>nimun_pht</th>\n",
       "      <td>0.163449</td>\n",
       "      <td>0.248837</td>\n",
       "      <td>1.000000</td>\n",
       "    </tr>\n",
       "    <tr>\n",
       "      <th>nradlab_pht</th>\n",
       "      <td>1.000000</td>\n",
       "      <td>0.133526</td>\n",
       "      <td>0.163449</td>\n",
       "    </tr>\n",
       "    <tr>\n",
       "      <th>nbiochem_pht</th>\n",
       "      <td>0.018636</td>\n",
       "      <td>0.104058</td>\n",
       "      <td>0.235500</td>\n",
       "    </tr>\n",
       "    <tr>\n",
       "      <th>ncyto_pht</th>\n",
       "      <td>0.133526</td>\n",
       "      <td>1.000000</td>\n",
       "      <td>0.248837</td>\n",
       "    </tr>\n",
       "    <tr>\n",
       "      <th>air_pollution</th>\n",
       "      <td>0.032704</td>\n",
       "      <td>-0.086083</td>\n",
       "      <td>-0.005905</td>\n",
       "    </tr>\n",
       "    <tr>\n",
       "      <th>reorg</th>\n",
       "      <td>NaN</td>\n",
       "      <td>NaN</td>\n",
       "      <td>NaN</td>\n",
       "    </tr>\n",
       "    <tr>\n",
       "      <th>inner</th>\n",
       "      <td>NaN</td>\n",
       "      <td>NaN</td>\n",
       "      <td>NaN</td>\n",
       "    </tr>\n",
       "    <tr>\n",
       "      <th>nhsu</th>\n",
       "      <td>NaN</td>\n",
       "      <td>NaN</td>\n",
       "      <td>NaN</td>\n",
       "    </tr>\n",
       "    <tr>\n",
       "      <th>mdevindex</th>\n",
       "      <td>0.007837</td>\n",
       "      <td>0.142151</td>\n",
       "      <td>0.216528</td>\n",
       "    </tr>\n",
       "  </tbody>\n",
       "</table>\n",
       "</div>"
      ],
      "text/plain": [
       "               nradlab_pht  ncyto_pht  nimun_pht\n",
       "ndiaglab_pht     -0.076444  -0.034548  -0.213720\n",
       "ndoctors_pht     -0.272179  -0.061878  -0.093671\n",
       "dvisits_pht      -0.379083  -0.003426  -0.036281\n",
       "nсt_pht          -0.122205  -0.224140  -0.257581\n",
       "nimun_pht         0.163449   0.248837   1.000000\n",
       "nradlab_pht       1.000000   0.133526   0.163449\n",
       "nbiochem_pht      0.018636   0.104058   0.235500\n",
       "ncyto_pht         0.133526   1.000000   0.248837\n",
       "air_pollution     0.032704  -0.086083  -0.005905\n",
       "reorg                  NaN        NaN        NaN\n",
       "inner                  NaN        NaN        NaN\n",
       "nhsu                   NaN        NaN        NaN\n",
       "mdevindex         0.007837   0.142151   0.216528"
      ]
     },
     "execution_count": 514,
     "metadata": {},
     "output_type": "execute_result"
    }
   ],
   "source": [
    "correlation_matrix = df[variables].corr()[['nradlab_pht', 'ncyto_pht', 'nimun_pht']]\n",
    "correlation_matrix"
   ]
  },
  {
   "cell_type": "code",
   "execution_count": 503,
   "metadata": {},
   "outputs": [
    {
     "name": "stdout",
     "output_type": "stream",
     "text": [
      "Durbin-Watson statistic: 2.262391756517175\n"
     ]
    }
   ],
   "source": [
    "from statsmodels.stats.stattools import durbin_watson\n",
    "\n",
    "# residuals from your model\n",
    "residuals = mtumors_model.resid  \n",
    "dw_stat = durbin_watson(residuals)\n",
    "print(f'Durbin-Watson statistic: {dw_stat}')"
   ]
  },
  {
   "cell_type": "code",
   "execution_count": 504,
   "metadata": {},
   "outputs": [
    {
     "name": "stdout",
     "output_type": "stream",
     "text": [
      "      lb_stat     lb_pvalue\n",
      "10  60.903796  2.443577e-09\n"
     ]
    }
   ],
   "source": [
    "from statsmodels.stats.diagnostic import acorr_ljungbox\n",
    "\n",
    "# For raw time series or residuals\n",
    "ljung_box = acorr_ljungbox(mtumors_model.resid, lags=[10], return_df=True)\n",
    "print(ljung_box)"
   ]
  }
 ],
 "metadata": {
  "kernelspec": {
   "display_name": "ml",
   "language": "python",
   "name": "python3"
  },
  "language_info": {
   "codemirror_mode": {
    "name": "ipython",
    "version": 3
   },
   "file_extension": ".py",
   "mimetype": "text/x-python",
   "name": "python",
   "nbconvert_exporter": "python",
   "pygments_lexer": "ipython3",
   "version": "3.12.3"
  }
 },
 "nbformat": 4,
 "nbformat_minor": 2
}
